{
 "cells": [
  {
   "cell_type": "markdown",
   "metadata": {
    "colab_type": "text",
    "id": "view-in-github"
   },
   "source": [
    "<a href=\"https://colab.research.google.com/github/xrhd/NeuralSymbolic-Demo/blob/master/NeuralSymbolic_Demo.ipynb\" target=\"_parent\"><img src=\"https://colab.research.google.com/assets/colab-badge.svg\" alt=\"Open In Colab\"/></a>"
   ]
  },
  {
   "cell_type": "markdown",
   "metadata": {
    "colab_type": "text",
    "id": "eqiOYl7DC8Fo"
   },
   "source": [
    "# NeuralSymbolic - Demo"
   ]
  },
  {
   "cell_type": "markdown",
   "metadata": {
    "colab_type": "text",
    "id": "hmY6cIItVjvG"
   },
   "source": [
    "## Dependencies"
   ]
  },
  {
   "cell_type": "code",
   "execution_count": 1,
   "metadata": {
    "colab": {
     "base_uri": "https://localhost:8080/",
     "height": 168
    },
    "colab_type": "code",
    "id": "GYOlB1BY0KHc",
    "outputId": "d282410a-f368-4c8b-c887-bbf29c3b0df3",
    "scrolled": false
   },
   "outputs": [
    {
     "name": "stdout",
     "output_type": "stream",
     "text": [
      "Requirement already satisfied: keras-rectified-adam in /home/matheus/anaconda3/envs/tensorflow/lib/python3.6/site-packages (0.17.0)\r\n",
      "Requirement already satisfied: Keras in /home/matheus/anaconda3/envs/tensorflow/lib/python3.6/site-packages (from keras-rectified-adam) (2.1.5)\r\n",
      "Requirement already satisfied: numpy in /home/matheus/anaconda3/envs/tensorflow/lib/python3.6/site-packages (from keras-rectified-adam) (1.19.2)\r\n",
      "Requirement already satisfied: scipy>=0.14 in /home/matheus/anaconda3/envs/tensorflow/lib/python3.6/site-packages (from Keras->keras-rectified-adam) (1.5.2)\r\n",
      "Requirement already satisfied: pyyaml in /home/matheus/anaconda3/envs/tensorflow/lib/python3.6/site-packages (from Keras->keras-rectified-adam) (5.3.1)\r\n",
      "Requirement already satisfied: six>=1.9.0 in /home/matheus/anaconda3/envs/tensorflow/lib/python3.6/site-packages (from Keras->keras-rectified-adam) (1.15.0)\r\n"
     ]
    }
   ],
   "source": [
    "!pip install keras-rectified-adam"
   ]
  },
  {
   "cell_type": "code",
   "execution_count": 1,
   "metadata": {
    "colab": {},
    "colab_type": "code",
    "id": "ny3mB825u0oM",
    "scrolled": true
   },
   "outputs": [
    {
     "output_type": "stream",
     "name": "stderr",
     "text": [
      "Using TensorFlow backend.\n"
     ]
    }
   ],
   "source": [
    "import tqdm\n",
    "import numpy as np\n",
    "import pandas as pd\n",
    "from sklearn.model_selection import LeaveOneOut, KFold\n",
    "import keras \n",
    "from keras.models import Sequential, Model\n",
    "from keras.layers import Dense, Input, concatenate\n",
    "from keras.losses import binary_crossentropy\n",
    "from keras.utils  import plot_model\n",
    "from keras_radam import RAdam\n",
    "import matplotlib.pyplot as plt\n",
    "import warnings\n",
    "warnings.filterwarnings('ignore')"
   ]
  },
  {
   "cell_type": "code",
   "execution_count": 2,
   "metadata": {
    "colab": {},
    "colab_type": "code",
    "id": "oGV8J8Mj1uhj",
    "scrolled": false
   },
   "outputs": [],
   "source": [
    "seed_value= 0\n",
    "\n",
    "# 1. Set `PYTHONHASHSEED` environment variable at a fixed value\n",
    "import os\n",
    "os.environ['PYTHONHASHSEED']=str(seed_value)\n",
    "\n",
    "# 2. Set `python` built-in pseudo-random generator at a fixed value\n",
    "import random\n",
    "random.seed(seed_value)\n",
    "\n",
    "# 3. Set `numpy` pseudo-random generator at a fixed value\n",
    "import numpy as np\n",
    "np.random.seed(seed_value)\n",
    "\n",
    "# 4. Set `tensorflow` pseudo-random generator at a fixed value\n",
    "import tensorflow as tf\n",
    "tf.set_random_seed(seed_value)\n",
    "\n",
    "# 5. Configure a new global `tensorflow` session\n",
    "from keras import backend as K\n",
    "session_conf = tf.ConfigProto(intra_op_parallelism_threads=1, inter_op_parallelism_threads=1)\n",
    "sess = tf.Session(graph=tf.get_default_graph(), config=session_conf)\n",
    "K.set_session(sess)"
   ]
  },
  {
   "cell_type": "code",
   "execution_count": 3,
   "metadata": {
    "colab": {
     "base_uri": "https://localhost:8080/",
     "height": 34
    },
    "colab_type": "code",
    "id": "3Z26MF1B4iFG",
    "outputId": "f39aad06-235f-4cad-f42d-a500f0d46762",
    "scrolled": false
   },
   "outputs": [],
   "source": [
    "# if u runing in google's colab\n",
    "# from google.colab import drive\n",
    "# drive.mount('/content/drive/')"
   ]
  },
  {
   "cell_type": "markdown",
   "metadata": {
    "colab_type": "text",
    "id": "roshxLlK-K5g"
   },
   "source": [
    "## GET data"
   ]
  },
  {
   "cell_type": "code",
   "execution_count": 3,
   "metadata": {
    "colab": {
     "base_uri": "https://localhost:8080/",
     "height": 363
    },
    "colab_type": "code",
    "id": "cckTOFsQ1X22",
    "outputId": "17520310-241e-4a19-9103-495be7fbc3a4",
    "scrolled": false
   },
   "outputs": [
    {
     "output_type": "execute_result",
     "data": {
      "text/plain": [
       "   Number_of_cars  Number_of_different_loads  num_wheels1  length1  shape1  \\\n",
       "0               5                          4            2        1       6   \n",
       "1               4                          3            2        0       9   \n",
       "2               4                          2            2        0       6   \n",
       "3               5                          2            2        0       7   \n",
       "4               4                          3            2        0       1   \n",
       "5               3                          2            2        1       0   \n",
       "6               4                          2            2        0       1   \n",
       "7               3                          2            3        1       0   \n",
       "8               5                          2            2        0       7   \n",
       "9               3                          1            2        0       9   \n",
       "\n",
       "   num_loads1  load_shape1  num_wheels2  length2  shape2  ...  \\\n",
       "0           3            2            2        0       8  ...   \n",
       "1           1            3            2        0       7  ...   \n",
       "2           1            0            2        0       4  ...   \n",
       "3           1            3            2        0       1  ...   \n",
       "4           1            3            3        1       0  ...   \n",
       "5           3            0            2        0       6  ...   \n",
       "6           1            0            2        0       9  ...   \n",
       "7           1            2            2        0       9  ...   \n",
       "8           1            0            2        1       5  ...   \n",
       "9           1            2            2        1       6  ...   \n",
       "\n",
       "   Rectangle_next_to_triangle  Rectangle_next_to_hexagon  \\\n",
       "0                           1                          0   \n",
       "1                           1                          0   \n",
       "2                           0                          0   \n",
       "3                           1                          0   \n",
       "4                           1                          0   \n",
       "5                           0                          0   \n",
       "6                           0                          0   \n",
       "7                           0                          0   \n",
       "8                           0                          0   \n",
       "9                           0                          0   \n",
       "\n",
       "  Rectangle_next_to_circle  Triangle_next_to_triangle  \\\n",
       "0                        0                          0   \n",
       "1                        1                          0   \n",
       "2                        0                          1   \n",
       "3                        0                          1   \n",
       "4                        1                          0   \n",
       "5                        0                          0   \n",
       "6                        0                          0   \n",
       "7                        1                          0   \n",
       "8                        1                          0   \n",
       "9                        0                          0   \n",
       "\n",
       "   Triangle_next_to_hexagon Triangle_next_to_circle  Hexagon_next_to_hexagon  \\\n",
       "0                         1                       0                        0   \n",
       "1                         0                       0                        0   \n",
       "2                         0                       1                        0   \n",
       "3                         0                       0                        0   \n",
       "4                         0                       0                        0   \n",
       "5                         0                       1                        0   \n",
       "6                         0                       1                        0   \n",
       "7                         0                       0                        0   \n",
       "8                         0                       0                        0   \n",
       "9                         0                       0                        0   \n",
       "\n",
       "  Hexagon_next_to_circle  Circle_next_to_circle  Class_attribute  \n",
       "0                      1                      0                1  \n",
       "1                      0                      0                1  \n",
       "2                      0                      0                1  \n",
       "3                      0                      0                1  \n",
       "4                      0                      0                1  \n",
       "5                      0                      0                0  \n",
       "6                      0                      0                0  \n",
       "7                      0                      0                0  \n",
       "8                      0                      0                0  \n",
       "9                      0                      0                0  \n",
       "\n",
       "[10 rows x 33 columns]"
      ],
      "text/html": "<div>\n<style scoped>\n    .dataframe tbody tr th:only-of-type {\n        vertical-align: middle;\n    }\n\n    .dataframe tbody tr th {\n        vertical-align: top;\n    }\n\n    .dataframe thead th {\n        text-align: right;\n    }\n</style>\n<table border=\"1\" class=\"dataframe\">\n  <thead>\n    <tr style=\"text-align: right;\">\n      <th></th>\n      <th>Number_of_cars</th>\n      <th>Number_of_different_loads</th>\n      <th>num_wheels1</th>\n      <th>length1</th>\n      <th>shape1</th>\n      <th>num_loads1</th>\n      <th>load_shape1</th>\n      <th>num_wheels2</th>\n      <th>length2</th>\n      <th>shape2</th>\n      <th>...</th>\n      <th>Rectangle_next_to_triangle</th>\n      <th>Rectangle_next_to_hexagon</th>\n      <th>Rectangle_next_to_circle</th>\n      <th>Triangle_next_to_triangle</th>\n      <th>Triangle_next_to_hexagon</th>\n      <th>Triangle_next_to_circle</th>\n      <th>Hexagon_next_to_hexagon</th>\n      <th>Hexagon_next_to_circle</th>\n      <th>Circle_next_to_circle</th>\n      <th>Class_attribute</th>\n    </tr>\n  </thead>\n  <tbody>\n    <tr>\n      <th>0</th>\n      <td>5</td>\n      <td>4</td>\n      <td>2</td>\n      <td>1</td>\n      <td>6</td>\n      <td>3</td>\n      <td>2</td>\n      <td>2</td>\n      <td>0</td>\n      <td>8</td>\n      <td>...</td>\n      <td>1</td>\n      <td>0</td>\n      <td>0</td>\n      <td>0</td>\n      <td>1</td>\n      <td>0</td>\n      <td>0</td>\n      <td>1</td>\n      <td>0</td>\n      <td>1</td>\n    </tr>\n    <tr>\n      <th>1</th>\n      <td>4</td>\n      <td>3</td>\n      <td>2</td>\n      <td>0</td>\n      <td>9</td>\n      <td>1</td>\n      <td>3</td>\n      <td>2</td>\n      <td>0</td>\n      <td>7</td>\n      <td>...</td>\n      <td>1</td>\n      <td>0</td>\n      <td>1</td>\n      <td>0</td>\n      <td>0</td>\n      <td>0</td>\n      <td>0</td>\n      <td>0</td>\n      <td>0</td>\n      <td>1</td>\n    </tr>\n    <tr>\n      <th>2</th>\n      <td>4</td>\n      <td>2</td>\n      <td>2</td>\n      <td>0</td>\n      <td>6</td>\n      <td>1</td>\n      <td>0</td>\n      <td>2</td>\n      <td>0</td>\n      <td>4</td>\n      <td>...</td>\n      <td>0</td>\n      <td>0</td>\n      <td>0</td>\n      <td>1</td>\n      <td>0</td>\n      <td>1</td>\n      <td>0</td>\n      <td>0</td>\n      <td>0</td>\n      <td>1</td>\n    </tr>\n    <tr>\n      <th>3</th>\n      <td>5</td>\n      <td>2</td>\n      <td>2</td>\n      <td>0</td>\n      <td>7</td>\n      <td>1</td>\n      <td>3</td>\n      <td>2</td>\n      <td>0</td>\n      <td>1</td>\n      <td>...</td>\n      <td>1</td>\n      <td>0</td>\n      <td>0</td>\n      <td>1</td>\n      <td>0</td>\n      <td>0</td>\n      <td>0</td>\n      <td>0</td>\n      <td>0</td>\n      <td>1</td>\n    </tr>\n    <tr>\n      <th>4</th>\n      <td>4</td>\n      <td>3</td>\n      <td>2</td>\n      <td>0</td>\n      <td>1</td>\n      <td>1</td>\n      <td>3</td>\n      <td>3</td>\n      <td>1</td>\n      <td>0</td>\n      <td>...</td>\n      <td>1</td>\n      <td>0</td>\n      <td>1</td>\n      <td>0</td>\n      <td>0</td>\n      <td>0</td>\n      <td>0</td>\n      <td>0</td>\n      <td>0</td>\n      <td>1</td>\n    </tr>\n    <tr>\n      <th>5</th>\n      <td>3</td>\n      <td>2</td>\n      <td>2</td>\n      <td>1</td>\n      <td>0</td>\n      <td>3</td>\n      <td>0</td>\n      <td>2</td>\n      <td>0</td>\n      <td>6</td>\n      <td>...</td>\n      <td>0</td>\n      <td>0</td>\n      <td>0</td>\n      <td>0</td>\n      <td>0</td>\n      <td>1</td>\n      <td>0</td>\n      <td>0</td>\n      <td>0</td>\n      <td>0</td>\n    </tr>\n    <tr>\n      <th>6</th>\n      <td>4</td>\n      <td>2</td>\n      <td>2</td>\n      <td>0</td>\n      <td>1</td>\n      <td>1</td>\n      <td>0</td>\n      <td>2</td>\n      <td>0</td>\n      <td>9</td>\n      <td>...</td>\n      <td>0</td>\n      <td>0</td>\n      <td>0</td>\n      <td>0</td>\n      <td>0</td>\n      <td>1</td>\n      <td>0</td>\n      <td>0</td>\n      <td>0</td>\n      <td>0</td>\n    </tr>\n    <tr>\n      <th>7</th>\n      <td>3</td>\n      <td>2</td>\n      <td>3</td>\n      <td>1</td>\n      <td>0</td>\n      <td>1</td>\n      <td>2</td>\n      <td>2</td>\n      <td>0</td>\n      <td>9</td>\n      <td>...</td>\n      <td>0</td>\n      <td>0</td>\n      <td>1</td>\n      <td>0</td>\n      <td>0</td>\n      <td>0</td>\n      <td>0</td>\n      <td>0</td>\n      <td>0</td>\n      <td>0</td>\n    </tr>\n    <tr>\n      <th>8</th>\n      <td>5</td>\n      <td>2</td>\n      <td>2</td>\n      <td>0</td>\n      <td>7</td>\n      <td>1</td>\n      <td>0</td>\n      <td>2</td>\n      <td>1</td>\n      <td>5</td>\n      <td>...</td>\n      <td>0</td>\n      <td>0</td>\n      <td>1</td>\n      <td>0</td>\n      <td>0</td>\n      <td>0</td>\n      <td>0</td>\n      <td>0</td>\n      <td>0</td>\n      <td>0</td>\n    </tr>\n    <tr>\n      <th>9</th>\n      <td>3</td>\n      <td>1</td>\n      <td>2</td>\n      <td>0</td>\n      <td>9</td>\n      <td>1</td>\n      <td>2</td>\n      <td>2</td>\n      <td>1</td>\n      <td>6</td>\n      <td>...</td>\n      <td>0</td>\n      <td>0</td>\n      <td>0</td>\n      <td>0</td>\n      <td>0</td>\n      <td>0</td>\n      <td>0</td>\n      <td>0</td>\n      <td>0</td>\n      <td>0</td>\n    </tr>\n  </tbody>\n</table>\n<p>10 rows × 33 columns</p>\n</div>"
     },
     "metadata": {},
     "execution_count": 3
    }
   ],
   "source": [
    "# path to trains-transformed.csv\n",
    "path = './trains-transformed.csv'\n",
    "str_att = {\n",
    "  'length': ['short', 'long'],\n",
    "  'shape': ['closedrect', 'dblopnrect', 'ellipse', 'engine', 'hexagon',\n",
    "          'jaggedtop', 'openrect', 'opentrap', 'slopetop', 'ushaped'],\n",
    "  'load_shape': ['circlelod', 'hexagonlod', 'rectanglod', 'trianglod'],\n",
    "  'Class_attribute': ['west','east']\n",
    "}\n",
    "\n",
    "def read_data(path=path):\n",
    "  df = pd.read_csv(path, ',')\n",
    "\n",
    "  for k in df:\n",
    "    for att in str_att:\n",
    "      if k.startswith(att):\n",
    "        for i,val in enumerate(df[k]):\n",
    "          if val in str_att[att]:\n",
    "            df[k][i] = str_att[att].index(val)\n",
    "\n",
    "  df.replace(\"\\\\0\", 0, inplace=True)\n",
    "  df.replace(\"None\", -1, inplace=True)\n",
    "\n",
    "  return df\n",
    "\n",
    "df = read_data()\n",
    "df"
   ]
  },
  {
   "cell_type": "markdown",
   "metadata": {
    "colab_type": "text",
    "id": "wwsqEU0csS6W"
   },
   "source": [
    "## Question 1.\n",
    "\n",
    "Implemente uma solução que implemente proposicionalização com 32 features\n",
    "de entrada, 9 perseptrons e uma única saída (denotando leste). As entradas codi=icam:"
   ]
  },
  {
   "cell_type": "code",
   "execution_count": 4,
   "metadata": {
    "colab": {},
    "colab_type": "code",
    "id": "yaDwHppC0UHM",
    "scrolled": false
   },
   "outputs": [],
   "source": [
    "# get data\n",
    "df = read_data()\n",
    "Y = np.array(df.pop('Class_attribute'))\n",
    "X = np.array(df)"
   ]
  },
  {
   "cell_type": "markdown",
   "metadata": {
    "colab_type": "text",
    "id": "bPpFYhh9BA9p"
   },
   "source": [
    "### Akin Propositionalization Model"
   ]
  },
  {
   "cell_type": "code",
   "execution_count": 5,
   "metadata": {
    "colab": {
     "base_uri": "https://localhost:8080/",
     "height": 218
    },
    "colab_type": "code",
    "id": "C89Uzm__GiDK",
    "outputId": "a88f0c3f-7517-4be6-c76e-a355848b67a6",
    "scrolled": false
   },
   "outputs": [
    {
     "output_type": "stream",
     "name": "stdout",
     "text": [
      "_________________________________________________________________\nLayer (type)                 Output Shape              Param #   \n=================================================================\ndense_1 (Dense)              (None, 9)                 297       \n_________________________________________________________________\ndense_2 (Dense)              (None, 1)                 10        \n=================================================================\nTotal params: 307\nTrainable params: 307\nNon-trainable params: 0\n_________________________________________________________________\n"
     ]
    }
   ],
   "source": [
    "# define model\n",
    "def model_v1():\n",
    "  model = Sequential([\n",
    "    Dense(9, activation='relu', input_shape=(len(df.keys()),)),\n",
    "    Dense(1, activation='sigmoid'),\n",
    "  ])\n",
    "  model.compile(\n",
    "    loss = binary_crossentropy, \n",
    "    optimizer = RAdam(),\n",
    "    metrics = ['mse', 'binary_accuracy']\n",
    "  ) \n",
    "  return model\n",
    "\n",
    "es = keras.callbacks.EarlyStopping(\n",
    "    monitor='val_loss', min_delta=0, patience=1000, verbose=0)\n",
    "\n",
    "model = model_v1()\n",
    "model.summary()"
   ]
  },
  {
   "cell_type": "code",
   "execution_count": 6,
   "metadata": {
    "colab": {
     "base_uri": "https://localhost:8080/",
     "height": 312
    },
    "colab_type": "code",
    "id": "NT_PmyXd-rpo",
    "outputId": "aab927f6-4894-438e-f04a-9c89ef2e4f1d",
    "scrolled": false
   },
   "outputs": [],
   "source": [
    "plot_model(model, show_shapes=True, show_layer_names=False)"
   ]
  },
  {
   "cell_type": "markdown",
   "metadata": {
    "colab_type": "text",
    "id": "PKLXNbidBODc"
   },
   "source": [
    "### Train"
   ]
  },
  {
   "cell_type": "code",
   "execution_count": 9,
   "metadata": {
    "colab": {
     "base_uri": "https://localhost:8080/",
     "height": 34
    },
    "colab_type": "code",
    "id": "5I58Rg1Nq4Zf",
    "outputId": "99eacd87-ea03-4392-f3d2-07837cb6805c",
    "scrolled": false
   },
   "outputs": [
    {
     "output_type": "stream",
     "name": "stderr",
     "text": [
      "100%|██████████| 10/10 [05:40<00:00, 34.03s/it]\n"
     ]
    }
   ],
   "source": [
    "# train\n",
    "loo = LeaveOneOut()\n",
    "hists = dict()\n",
    "q1_names =  [\n",
    "  'Train', \n",
    "  'Output of flat network', \n",
    "  ' Desired output', \n",
    "  'Class'\n",
    "]\n",
    "q1 = {name: [] for name in q1_names}\n",
    "\n",
    "for i, (train, test) in tqdm.tqdm(enumerate(loo.split(X)), total=10):\n",
    "  x_train = X[train]\n",
    "  y_trian = Y[train]\n",
    "  x_test  = X[test]\n",
    "  y_test  = Y[test] \n",
    "\n",
    "  model = model_v1()\n",
    "  hist = model.fit(\n",
    "    x_train,\n",
    "    y_trian,\n",
    "    validation_data=[x_test, y_test],\n",
    "    epochs=500,\n",
    "    verbose=0,\n",
    "    # callbacks=[es]\n",
    "  )\n",
    "  hists[test[0]] = hist\n",
    "\n",
    "  q1['Train'].append(i)\n",
    "  q1['Output of flat network'].append(model.predict(x_test)[0][0])\n",
    "  q1[' Desired output'].append(y_test[0])\n",
    "  q1['Class'].append(str_att['Class_attribute'][int(y_test)])"
   ]
  },
  {
   "cell_type": "markdown",
   "metadata": {
    "colab_type": "text",
    "id": "ooYmO1ghBXPk"
   },
   "source": [
    "### Results"
   ]
  },
  {
   "cell_type": "code",
   "execution_count": 10,
   "metadata": {
    "colab": {
     "base_uri": "https://localhost:8080/",
     "height": 295
    },
    "colab_type": "code",
    "id": "BOW6B2jpBVRu",
    "outputId": "831a14c9-f4d0-43c5-d16c-0b21a7b12642",
    "scrolled": false
   },
   "outputs": [
    {
     "output_type": "display_data",
     "data": {
      "text/plain": "<Figure size 432x288 with 1 Axes>",
      "image/svg+xml": "<?xml version=\"1.0\" encoding=\"utf-8\" standalone=\"no\"?>\n<!DOCTYPE svg PUBLIC \"-//W3C//DTD SVG 1.1//EN\"\n  \"http://www.w3.org/Graphics/SVG/1.1/DTD/svg11.dtd\">\n<!-- Created with matplotlib (https://matplotlib.org/) -->\n<svg height=\"277.314375pt\" version=\"1.1\" viewBox=\"0 0 386.499758 277.314375\" width=\"386.499758pt\" xmlns=\"http://www.w3.org/2000/svg\" xmlns:xlink=\"http://www.w3.org/1999/xlink\">\n <metadata>\n  <rdf:RDF xmlns:cc=\"http://creativecommons.org/ns#\" xmlns:dc=\"http://purl.org/dc/elements/1.1/\" xmlns:rdf=\"http://www.w3.org/1999/02/22-rdf-syntax-ns#\">\n   <cc:Work>\n    <dc:type rdf:resource=\"http://purl.org/dc/dcmitype/StillImage\"/>\n    <dc:date>2020-12-17T16:33:49.653299</dc:date>\n    <dc:format>image/svg+xml</dc:format>\n    <dc:creator>\n     <cc:Agent>\n      <dc:title>Matplotlib v3.3.3, https://matplotlib.org/</dc:title>\n     </cc:Agent>\n    </dc:creator>\n   </cc:Work>\n  </rdf:RDF>\n </metadata>\n <defs>\n  <style type=\"text/css\">*{stroke-linecap:butt;stroke-linejoin:round;}</style>\n </defs>\n <g id=\"figure_1\">\n  <g id=\"patch_1\">\n   <path d=\"M 0 277.314375 \nL 386.499758 277.314375 \nL 386.499758 0 \nL 0 0 \nz\n\" style=\"fill:none;\"/>\n  </g>\n  <g id=\"axes_1\">\n   <g id=\"patch_2\">\n    <path d=\"M 43.78125 239.758125 \nL 378.58125 239.758125 \nL 378.58125 22.318125 \nL 43.78125 22.318125 \nz\n\" style=\"fill:#ffffff;\"/>\n   </g>\n   <g id=\"matplotlib.axis_1\">\n    <g id=\"xtick_1\">\n     <g id=\"line2d_1\">\n      <defs>\n       <path d=\"M 0 0 \nL 0 3.5 \n\" id=\"m6faa1eaa16\" style=\"stroke:#000000;stroke-width:0.8;\"/>\n      </defs>\n      <g>\n       <use style=\"stroke:#000000;stroke-width:0.8;\" x=\"58.999432\" xlink:href=\"#m6faa1eaa16\" y=\"239.758125\"/>\n      </g>\n     </g>\n     <g id=\"text_1\">\n      <!-- 0 -->\n      <g transform=\"translate(55.818182 254.356562)scale(0.1 -0.1)\">\n       <defs>\n        <path d=\"M 31.78125 66.40625 \nQ 24.171875 66.40625 20.328125 58.90625 \nQ 16.5 51.421875 16.5 36.375 \nQ 16.5 21.390625 20.328125 13.890625 \nQ 24.171875 6.390625 31.78125 6.390625 \nQ 39.453125 6.390625 43.28125 13.890625 \nQ 47.125 21.390625 47.125 36.375 \nQ 47.125 51.421875 43.28125 58.90625 \nQ 39.453125 66.40625 31.78125 66.40625 \nz\nM 31.78125 74.21875 \nQ 44.046875 74.21875 50.515625 64.515625 \nQ 56.984375 54.828125 56.984375 36.375 \nQ 56.984375 17.96875 50.515625 8.265625 \nQ 44.046875 -1.421875 31.78125 -1.421875 \nQ 19.53125 -1.421875 13.0625 8.265625 \nQ 6.59375 17.96875 6.59375 36.375 \nQ 6.59375 54.828125 13.0625 64.515625 \nQ 19.53125 74.21875 31.78125 74.21875 \nz\n\" id=\"DejaVuSans-48\"/>\n       </defs>\n       <use xlink:href=\"#DejaVuSans-48\"/>\n      </g>\n     </g>\n    </g>\n    <g id=\"xtick_2\">\n     <g id=\"line2d_2\">\n      <g>\n       <use style=\"stroke:#000000;stroke-width:0.8;\" x=\"119.878247\" xlink:href=\"#m6faa1eaa16\" y=\"239.758125\"/>\n      </g>\n     </g>\n     <g id=\"text_2\">\n      <!-- 2000 -->\n      <g transform=\"translate(107.153247 254.356562)scale(0.1 -0.1)\">\n       <defs>\n        <path d=\"M 19.1875 8.296875 \nL 53.609375 8.296875 \nL 53.609375 0 \nL 7.328125 0 \nL 7.328125 8.296875 \nQ 12.9375 14.109375 22.625 23.890625 \nQ 32.328125 33.6875 34.8125 36.53125 \nQ 39.546875 41.84375 41.421875 45.53125 \nQ 43.3125 49.21875 43.3125 52.78125 \nQ 43.3125 58.59375 39.234375 62.25 \nQ 35.15625 65.921875 28.609375 65.921875 \nQ 23.96875 65.921875 18.8125 64.3125 \nQ 13.671875 62.703125 7.8125 59.421875 \nL 7.8125 69.390625 \nQ 13.765625 71.78125 18.9375 73 \nQ 24.125 74.21875 28.421875 74.21875 \nQ 39.75 74.21875 46.484375 68.546875 \nQ 53.21875 62.890625 53.21875 53.421875 \nQ 53.21875 48.921875 51.53125 44.890625 \nQ 49.859375 40.875 45.40625 35.40625 \nQ 44.1875 33.984375 37.640625 27.21875 \nQ 31.109375 20.453125 19.1875 8.296875 \nz\n\" id=\"DejaVuSans-50\"/>\n       </defs>\n       <use xlink:href=\"#DejaVuSans-50\"/>\n       <use x=\"63.623047\" xlink:href=\"#DejaVuSans-48\"/>\n       <use x=\"127.246094\" xlink:href=\"#DejaVuSans-48\"/>\n       <use x=\"190.869141\" xlink:href=\"#DejaVuSans-48\"/>\n      </g>\n     </g>\n    </g>\n    <g id=\"xtick_3\">\n     <g id=\"line2d_3\">\n      <g>\n       <use style=\"stroke:#000000;stroke-width:0.8;\" x=\"180.757062\" xlink:href=\"#m6faa1eaa16\" y=\"239.758125\"/>\n      </g>\n     </g>\n     <g id=\"text_3\">\n      <!-- 4000 -->\n      <g transform=\"translate(168.032062 254.356562)scale(0.1 -0.1)\">\n       <defs>\n        <path d=\"M 37.796875 64.3125 \nL 12.890625 25.390625 \nL 37.796875 25.390625 \nz\nM 35.203125 72.90625 \nL 47.609375 72.90625 \nL 47.609375 25.390625 \nL 58.015625 25.390625 \nL 58.015625 17.1875 \nL 47.609375 17.1875 \nL 47.609375 0 \nL 37.796875 0 \nL 37.796875 17.1875 \nL 4.890625 17.1875 \nL 4.890625 26.703125 \nz\n\" id=\"DejaVuSans-52\"/>\n       </defs>\n       <use xlink:href=\"#DejaVuSans-52\"/>\n       <use x=\"63.623047\" xlink:href=\"#DejaVuSans-48\"/>\n       <use x=\"127.246094\" xlink:href=\"#DejaVuSans-48\"/>\n       <use x=\"190.869141\" xlink:href=\"#DejaVuSans-48\"/>\n      </g>\n     </g>\n    </g>\n    <g id=\"xtick_4\">\n     <g id=\"line2d_4\">\n      <g>\n       <use style=\"stroke:#000000;stroke-width:0.8;\" x=\"241.635877\" xlink:href=\"#m6faa1eaa16\" y=\"239.758125\"/>\n      </g>\n     </g>\n     <g id=\"text_4\">\n      <!-- 6000 -->\n      <g transform=\"translate(228.910877 254.356562)scale(0.1 -0.1)\">\n       <defs>\n        <path d=\"M 33.015625 40.375 \nQ 26.375 40.375 22.484375 35.828125 \nQ 18.609375 31.296875 18.609375 23.390625 \nQ 18.609375 15.53125 22.484375 10.953125 \nQ 26.375 6.390625 33.015625 6.390625 \nQ 39.65625 6.390625 43.53125 10.953125 \nQ 47.40625 15.53125 47.40625 23.390625 \nQ 47.40625 31.296875 43.53125 35.828125 \nQ 39.65625 40.375 33.015625 40.375 \nz\nM 52.59375 71.296875 \nL 52.59375 62.3125 \nQ 48.875 64.0625 45.09375 64.984375 \nQ 41.3125 65.921875 37.59375 65.921875 \nQ 27.828125 65.921875 22.671875 59.328125 \nQ 17.53125 52.734375 16.796875 39.40625 \nQ 19.671875 43.65625 24.015625 45.921875 \nQ 28.375 48.1875 33.59375 48.1875 \nQ 44.578125 48.1875 50.953125 41.515625 \nQ 57.328125 34.859375 57.328125 23.390625 \nQ 57.328125 12.15625 50.6875 5.359375 \nQ 44.046875 -1.421875 33.015625 -1.421875 \nQ 20.359375 -1.421875 13.671875 8.265625 \nQ 6.984375 17.96875 6.984375 36.375 \nQ 6.984375 53.65625 15.1875 63.9375 \nQ 23.390625 74.21875 37.203125 74.21875 \nQ 40.921875 74.21875 44.703125 73.484375 \nQ 48.484375 72.75 52.59375 71.296875 \nz\n\" id=\"DejaVuSans-54\"/>\n       </defs>\n       <use xlink:href=\"#DejaVuSans-54\"/>\n       <use x=\"63.623047\" xlink:href=\"#DejaVuSans-48\"/>\n       <use x=\"127.246094\" xlink:href=\"#DejaVuSans-48\"/>\n       <use x=\"190.869141\" xlink:href=\"#DejaVuSans-48\"/>\n      </g>\n     </g>\n    </g>\n    <g id=\"xtick_5\">\n     <g id=\"line2d_5\">\n      <g>\n       <use style=\"stroke:#000000;stroke-width:0.8;\" x=\"302.514692\" xlink:href=\"#m6faa1eaa16\" y=\"239.758125\"/>\n      </g>\n     </g>\n     <g id=\"text_5\">\n      <!-- 8000 -->\n      <g transform=\"translate(289.789692 254.356562)scale(0.1 -0.1)\">\n       <defs>\n        <path d=\"M 31.78125 34.625 \nQ 24.75 34.625 20.71875 30.859375 \nQ 16.703125 27.09375 16.703125 20.515625 \nQ 16.703125 13.921875 20.71875 10.15625 \nQ 24.75 6.390625 31.78125 6.390625 \nQ 38.8125 6.390625 42.859375 10.171875 \nQ 46.921875 13.96875 46.921875 20.515625 \nQ 46.921875 27.09375 42.890625 30.859375 \nQ 38.875 34.625 31.78125 34.625 \nz\nM 21.921875 38.8125 \nQ 15.578125 40.375 12.03125 44.71875 \nQ 8.5 49.078125 8.5 55.328125 \nQ 8.5 64.0625 14.71875 69.140625 \nQ 20.953125 74.21875 31.78125 74.21875 \nQ 42.671875 74.21875 48.875 69.140625 \nQ 55.078125 64.0625 55.078125 55.328125 \nQ 55.078125 49.078125 51.53125 44.71875 \nQ 48 40.375 41.703125 38.8125 \nQ 48.828125 37.15625 52.796875 32.3125 \nQ 56.78125 27.484375 56.78125 20.515625 \nQ 56.78125 9.90625 50.3125 4.234375 \nQ 43.84375 -1.421875 31.78125 -1.421875 \nQ 19.734375 -1.421875 13.25 4.234375 \nQ 6.78125 9.90625 6.78125 20.515625 \nQ 6.78125 27.484375 10.78125 32.3125 \nQ 14.796875 37.15625 21.921875 38.8125 \nz\nM 18.3125 54.390625 \nQ 18.3125 48.734375 21.84375 45.5625 \nQ 25.390625 42.390625 31.78125 42.390625 \nQ 38.140625 42.390625 41.71875 45.5625 \nQ 45.3125 48.734375 45.3125 54.390625 \nQ 45.3125 60.0625 41.71875 63.234375 \nQ 38.140625 66.40625 31.78125 66.40625 \nQ 25.390625 66.40625 21.84375 63.234375 \nQ 18.3125 60.0625 18.3125 54.390625 \nz\n\" id=\"DejaVuSans-56\"/>\n       </defs>\n       <use xlink:href=\"#DejaVuSans-56\"/>\n       <use x=\"63.623047\" xlink:href=\"#DejaVuSans-48\"/>\n       <use x=\"127.246094\" xlink:href=\"#DejaVuSans-48\"/>\n       <use x=\"190.869141\" xlink:href=\"#DejaVuSans-48\"/>\n      </g>\n     </g>\n    </g>\n    <g id=\"xtick_6\">\n     <g id=\"line2d_6\">\n      <g>\n       <use style=\"stroke:#000000;stroke-width:0.8;\" x=\"363.393508\" xlink:href=\"#m6faa1eaa16\" y=\"239.758125\"/>\n      </g>\n     </g>\n     <g id=\"text_6\">\n      <!-- 10000 -->\n      <g transform=\"translate(347.487258 254.356562)scale(0.1 -0.1)\">\n       <defs>\n        <path d=\"M 12.40625 8.296875 \nL 28.515625 8.296875 \nL 28.515625 63.921875 \nL 10.984375 60.40625 \nL 10.984375 69.390625 \nL 28.421875 72.90625 \nL 38.28125 72.90625 \nL 38.28125 8.296875 \nL 54.390625 8.296875 \nL 54.390625 0 \nL 12.40625 0 \nz\n\" id=\"DejaVuSans-49\"/>\n       </defs>\n       <use xlink:href=\"#DejaVuSans-49\"/>\n       <use x=\"63.623047\" xlink:href=\"#DejaVuSans-48\"/>\n       <use x=\"127.246094\" xlink:href=\"#DejaVuSans-48\"/>\n       <use x=\"190.869141\" xlink:href=\"#DejaVuSans-48\"/>\n       <use x=\"254.492188\" xlink:href=\"#DejaVuSans-48\"/>\n      </g>\n     </g>\n    </g>\n    <g id=\"text_7\">\n     <!-- epoch -->\n     <g transform=\"translate(195.953125 268.034687)scale(0.1 -0.1)\">\n      <defs>\n       <path d=\"M 56.203125 29.59375 \nL 56.203125 25.203125 \nL 14.890625 25.203125 \nQ 15.484375 15.921875 20.484375 11.0625 \nQ 25.484375 6.203125 34.421875 6.203125 \nQ 39.59375 6.203125 44.453125 7.46875 \nQ 49.3125 8.734375 54.109375 11.28125 \nL 54.109375 2.78125 \nQ 49.265625 0.734375 44.1875 -0.34375 \nQ 39.109375 -1.421875 33.890625 -1.421875 \nQ 20.796875 -1.421875 13.15625 6.1875 \nQ 5.515625 13.8125 5.515625 26.8125 \nQ 5.515625 40.234375 12.765625 48.109375 \nQ 20.015625 56 32.328125 56 \nQ 43.359375 56 49.78125 48.890625 \nQ 56.203125 41.796875 56.203125 29.59375 \nz\nM 47.21875 32.234375 \nQ 47.125 39.59375 43.09375 43.984375 \nQ 39.0625 48.390625 32.421875 48.390625 \nQ 24.90625 48.390625 20.390625 44.140625 \nQ 15.875 39.890625 15.1875 32.171875 \nz\n\" id=\"DejaVuSans-101\"/>\n       <path d=\"M 18.109375 8.203125 \nL 18.109375 -20.796875 \nL 9.078125 -20.796875 \nL 9.078125 54.6875 \nL 18.109375 54.6875 \nL 18.109375 46.390625 \nQ 20.953125 51.265625 25.265625 53.625 \nQ 29.59375 56 35.59375 56 \nQ 45.5625 56 51.78125 48.09375 \nQ 58.015625 40.1875 58.015625 27.296875 \nQ 58.015625 14.40625 51.78125 6.484375 \nQ 45.5625 -1.421875 35.59375 -1.421875 \nQ 29.59375 -1.421875 25.265625 0.953125 \nQ 20.953125 3.328125 18.109375 8.203125 \nz\nM 48.6875 27.296875 \nQ 48.6875 37.203125 44.609375 42.84375 \nQ 40.53125 48.484375 33.40625 48.484375 \nQ 26.265625 48.484375 22.1875 42.84375 \nQ 18.109375 37.203125 18.109375 27.296875 \nQ 18.109375 17.390625 22.1875 11.75 \nQ 26.265625 6.109375 33.40625 6.109375 \nQ 40.53125 6.109375 44.609375 11.75 \nQ 48.6875 17.390625 48.6875 27.296875 \nz\n\" id=\"DejaVuSans-112\"/>\n       <path d=\"M 30.609375 48.390625 \nQ 23.390625 48.390625 19.1875 42.75 \nQ 14.984375 37.109375 14.984375 27.296875 \nQ 14.984375 17.484375 19.15625 11.84375 \nQ 23.34375 6.203125 30.609375 6.203125 \nQ 37.796875 6.203125 41.984375 11.859375 \nQ 46.1875 17.53125 46.1875 27.296875 \nQ 46.1875 37.015625 41.984375 42.703125 \nQ 37.796875 48.390625 30.609375 48.390625 \nz\nM 30.609375 56 \nQ 42.328125 56 49.015625 48.375 \nQ 55.71875 40.765625 55.71875 27.296875 \nQ 55.71875 13.875 49.015625 6.21875 \nQ 42.328125 -1.421875 30.609375 -1.421875 \nQ 18.84375 -1.421875 12.171875 6.21875 \nQ 5.515625 13.875 5.515625 27.296875 \nQ 5.515625 40.765625 12.171875 48.375 \nQ 18.84375 56 30.609375 56 \nz\n\" id=\"DejaVuSans-111\"/>\n       <path d=\"M 48.78125 52.59375 \nL 48.78125 44.1875 \nQ 44.96875 46.296875 41.140625 47.34375 \nQ 37.3125 48.390625 33.40625 48.390625 \nQ 24.65625 48.390625 19.8125 42.84375 \nQ 14.984375 37.3125 14.984375 27.296875 \nQ 14.984375 17.28125 19.8125 11.734375 \nQ 24.65625 6.203125 33.40625 6.203125 \nQ 37.3125 6.203125 41.140625 7.25 \nQ 44.96875 8.296875 48.78125 10.40625 \nL 48.78125 2.09375 \nQ 45.015625 0.34375 40.984375 -0.53125 \nQ 36.96875 -1.421875 32.421875 -1.421875 \nQ 20.0625 -1.421875 12.78125 6.34375 \nQ 5.515625 14.109375 5.515625 27.296875 \nQ 5.515625 40.671875 12.859375 48.328125 \nQ 20.21875 56 33.015625 56 \nQ 37.15625 56 41.109375 55.140625 \nQ 45.0625 54.296875 48.78125 52.59375 \nz\n\" id=\"DejaVuSans-99\"/>\n       <path d=\"M 54.890625 33.015625 \nL 54.890625 0 \nL 45.90625 0 \nL 45.90625 32.71875 \nQ 45.90625 40.484375 42.875 44.328125 \nQ 39.84375 48.1875 33.796875 48.1875 \nQ 26.515625 48.1875 22.3125 43.546875 \nQ 18.109375 38.921875 18.109375 30.90625 \nL 18.109375 0 \nL 9.078125 0 \nL 9.078125 75.984375 \nL 18.109375 75.984375 \nL 18.109375 46.1875 \nQ 21.34375 51.125 25.703125 53.5625 \nQ 30.078125 56 35.796875 56 \nQ 45.21875 56 50.046875 50.171875 \nQ 54.890625 44.34375 54.890625 33.015625 \nz\n\" id=\"DejaVuSans-104\"/>\n      </defs>\n      <use xlink:href=\"#DejaVuSans-101\"/>\n      <use x=\"61.523438\" xlink:href=\"#DejaVuSans-112\"/>\n      <use x=\"125\" xlink:href=\"#DejaVuSans-111\"/>\n      <use x=\"186.181641\" xlink:href=\"#DejaVuSans-99\"/>\n      <use x=\"241.162109\" xlink:href=\"#DejaVuSans-104\"/>\n     </g>\n    </g>\n   </g>\n   <g id=\"matplotlib.axis_2\">\n    <g id=\"ytick_1\">\n     <g id=\"line2d_7\">\n      <defs>\n       <path d=\"M 0 0 \nL -3.5 0 \n\" id=\"m0f969ad75f\" style=\"stroke:#000000;stroke-width:0.8;\"/>\n      </defs>\n      <g>\n       <use style=\"stroke:#000000;stroke-width:0.8;\" x=\"43.78125\" xlink:href=\"#m0f969ad75f\" y=\"229.874489\"/>\n      </g>\n     </g>\n     <g id=\"text_8\">\n      <!-- 0.0 -->\n      <g transform=\"translate(20.878125 233.673707)scale(0.1 -0.1)\">\n       <defs>\n        <path d=\"M 10.6875 12.40625 \nL 21 12.40625 \nL 21 0 \nL 10.6875 0 \nz\n\" id=\"DejaVuSans-46\"/>\n       </defs>\n       <use xlink:href=\"#DejaVuSans-48\"/>\n       <use x=\"63.623047\" xlink:href=\"#DejaVuSans-46\"/>\n       <use x=\"95.410156\" xlink:href=\"#DejaVuSans-48\"/>\n      </g>\n     </g>\n    </g>\n    <g id=\"ytick_2\">\n     <g id=\"line2d_8\">\n      <g>\n       <use style=\"stroke:#000000;stroke-width:0.8;\" x=\"43.78125\" xlink:href=\"#m0f969ad75f\" y=\"190.317797\"/>\n      </g>\n     </g>\n     <g id=\"text_9\">\n      <!-- 0.2 -->\n      <g transform=\"translate(20.878125 194.117015)scale(0.1 -0.1)\">\n       <use xlink:href=\"#DejaVuSans-48\"/>\n       <use x=\"63.623047\" xlink:href=\"#DejaVuSans-46\"/>\n       <use x=\"95.410156\" xlink:href=\"#DejaVuSans-50\"/>\n      </g>\n     </g>\n    </g>\n    <g id=\"ytick_3\">\n     <g id=\"line2d_9\">\n      <g>\n       <use style=\"stroke:#000000;stroke-width:0.8;\" x=\"43.78125\" xlink:href=\"#m0f969ad75f\" y=\"150.761105\"/>\n      </g>\n     </g>\n     <g id=\"text_10\">\n      <!-- 0.4 -->\n      <g transform=\"translate(20.878125 154.560324)scale(0.1 -0.1)\">\n       <use xlink:href=\"#DejaVuSans-48\"/>\n       <use x=\"63.623047\" xlink:href=\"#DejaVuSans-46\"/>\n       <use x=\"95.410156\" xlink:href=\"#DejaVuSans-52\"/>\n      </g>\n     </g>\n    </g>\n    <g id=\"ytick_4\">\n     <g id=\"line2d_10\">\n      <g>\n       <use style=\"stroke:#000000;stroke-width:0.8;\" x=\"43.78125\" xlink:href=\"#m0f969ad75f\" y=\"111.204413\"/>\n      </g>\n     </g>\n     <g id=\"text_11\">\n      <!-- 0.6 -->\n      <g transform=\"translate(20.878125 115.003632)scale(0.1 -0.1)\">\n       <use xlink:href=\"#DejaVuSans-48\"/>\n       <use x=\"63.623047\" xlink:href=\"#DejaVuSans-46\"/>\n       <use x=\"95.410156\" xlink:href=\"#DejaVuSans-54\"/>\n      </g>\n     </g>\n    </g>\n    <g id=\"ytick_5\">\n     <g id=\"line2d_11\">\n      <g>\n       <use style=\"stroke:#000000;stroke-width:0.8;\" x=\"43.78125\" xlink:href=\"#m0f969ad75f\" y=\"71.647721\"/>\n      </g>\n     </g>\n     <g id=\"text_12\">\n      <!-- 0.8 -->\n      <g transform=\"translate(20.878125 75.44694)scale(0.1 -0.1)\">\n       <use xlink:href=\"#DejaVuSans-48\"/>\n       <use x=\"63.623047\" xlink:href=\"#DejaVuSans-46\"/>\n       <use x=\"95.410156\" xlink:href=\"#DejaVuSans-56\"/>\n      </g>\n     </g>\n    </g>\n    <g id=\"ytick_6\">\n     <g id=\"line2d_12\">\n      <g>\n       <use style=\"stroke:#000000;stroke-width:0.8;\" x=\"43.78125\" xlink:href=\"#m0f969ad75f\" y=\"32.091029\"/>\n      </g>\n     </g>\n     <g id=\"text_13\">\n      <!-- 1.0 -->\n      <g transform=\"translate(20.878125 35.890248)scale(0.1 -0.1)\">\n       <use xlink:href=\"#DejaVuSans-49\"/>\n       <use x=\"63.623047\" xlink:href=\"#DejaVuSans-46\"/>\n       <use x=\"95.410156\" xlink:href=\"#DejaVuSans-48\"/>\n      </g>\n     </g>\n    </g>\n    <g id=\"text_14\">\n     <!-- MSE -->\n     <g transform=\"translate(14.798438 141.685781)rotate(-90)scale(0.1 -0.1)\">\n      <defs>\n       <path d=\"M 9.8125 72.90625 \nL 24.515625 72.90625 \nL 43.109375 23.296875 \nL 61.8125 72.90625 \nL 76.515625 72.90625 \nL 76.515625 0 \nL 66.890625 0 \nL 66.890625 64.015625 \nL 48.09375 14.015625 \nL 38.1875 14.015625 \nL 19.390625 64.015625 \nL 19.390625 0 \nL 9.8125 0 \nz\n\" id=\"DejaVuSans-77\"/>\n       <path d=\"M 53.515625 70.515625 \nL 53.515625 60.890625 \nQ 47.90625 63.578125 42.921875 64.890625 \nQ 37.9375 66.21875 33.296875 66.21875 \nQ 25.25 66.21875 20.875 63.09375 \nQ 16.5 59.96875 16.5 54.203125 \nQ 16.5 49.359375 19.40625 46.890625 \nQ 22.3125 44.4375 30.421875 42.921875 \nL 36.375 41.703125 \nQ 47.40625 39.59375 52.65625 34.296875 \nQ 57.90625 29 57.90625 20.125 \nQ 57.90625 9.515625 50.796875 4.046875 \nQ 43.703125 -1.421875 29.984375 -1.421875 \nQ 24.8125 -1.421875 18.96875 -0.25 \nQ 13.140625 0.921875 6.890625 3.21875 \nL 6.890625 13.375 \nQ 12.890625 10.015625 18.65625 8.296875 \nQ 24.421875 6.59375 29.984375 6.59375 \nQ 38.421875 6.59375 43.015625 9.90625 \nQ 47.609375 13.234375 47.609375 19.390625 \nQ 47.609375 24.75 44.3125 27.78125 \nQ 41.015625 30.8125 33.5 32.328125 \nL 27.484375 33.5 \nQ 16.453125 35.6875 11.515625 40.375 \nQ 6.59375 45.0625 6.59375 53.421875 \nQ 6.59375 63.09375 13.40625 68.65625 \nQ 20.21875 74.21875 32.171875 74.21875 \nQ 37.3125 74.21875 42.625 73.28125 \nQ 47.953125 72.359375 53.515625 70.515625 \nz\n\" id=\"DejaVuSans-83\"/>\n       <path d=\"M 9.8125 72.90625 \nL 55.90625 72.90625 \nL 55.90625 64.59375 \nL 19.671875 64.59375 \nL 19.671875 43.015625 \nL 54.390625 43.015625 \nL 54.390625 34.71875 \nL 19.671875 34.71875 \nL 19.671875 8.296875 \nL 56.78125 8.296875 \nL 56.78125 0 \nL 9.8125 0 \nz\n\" id=\"DejaVuSans-69\"/>\n      </defs>\n      <use xlink:href=\"#DejaVuSans-77\"/>\n      <use x=\"86.279297\" xlink:href=\"#DejaVuSans-83\"/>\n      <use x=\"149.755859\" xlink:href=\"#DejaVuSans-69\"/>\n     </g>\n    </g>\n   </g>\n   <g id=\"line2d_13\">\n    <path clip-path=\"url(#pc5659ac8a2)\" d=\"M 58.999432 163.661855 \nL 59.273386 164.773169 \nL 59.60822 165.398117 \nL 60.12569 166.924344 \nL 60.856236 169.863861 \nL 61.952054 175.308866 \nL 64.326328 188.459399 \nL 66.365768 199.281564 \nL 68.526966 208.562587 \nL 69.988058 214.368429 \nL 71.327392 218.679694 \nL 72.514529 221.774543 \nL 73.671226 224.101962 \nL 74.767045 225.758167 \nL 75.771545 226.875237 \nL 76.897803 227.773896 \nL 78.145819 228.451426 \nL 79.546032 228.956855 \nL 81.311518 229.327942 \nL 83.655352 229.583511 \nL 87.551596 229.759007 \nL 95.465842 229.849436 \nL 127.092387 229.873869 \nL 363.363068 229.874489 \nL 363.363068 229.874489 \n\" style=\"fill:none;stroke:#1f77b4;stroke-linecap:square;stroke-width:1.5;\"/>\n   </g>\n   <g id=\"line2d_14\">\n    <path clip-path=\"url(#pc5659ac8a2)\" d=\"M 58.999432 221.261129 \nL 59.242947 220.095288 \nL 59.547341 219.390251 \nL 59.973493 217.770829 \nL 60.521402 214.740171 \nL 61.251948 209.30937 \nL 62.439085 198.451517 \nL 65.878738 165.981493 \nL 66.852799 153.854624 \nL 67.82686 146.846133 \nL 69.227073 138.298631 \nL 69.957619 133.77735 \nL 71.266513 126.601211 \nL 73.245075 118.476149 \nL 73.427711 117.774832 \nL 74.066939 115.727292 \nL 74.371333 114.636191 \nL 74.888803 112.809302 \nL 75.162757 112.05391 \nL 75.284515 111.607715 \nL 75.497591 110.993589 \nL 75.619348 110.464259 \nL 75.862864 109.540924 \nL 76.654288 107.398366 \nL 76.745606 107.349997 \nL 77.232637 106.249016 \nL 77.263076 106.293059 \nL 77.323955 106.251173 \nL 77.658789 105.120909 \nL 77.993622 103.659462 \nL 78.450213 101.812544 \nL 79.576471 97.429039 \nL 80.063502 95.709546 \nL 80.885366 92.997683 \nL 81.037563 92.545759 \nL 84.446777 82.879534 \nL 84.690292 82.236973 \nL 85.055565 81.365213 \nL 86.181823 78.754133 \nL 86.973247 76.016016 \nL 88.921369 71.251815 \nL 89.834552 69.514439 \nL 90.869492 67.698502 \nL 91.204325 67.098758 \nL 92.604538 63.748165 \nL 92.878492 63.162131 \nL 93.122008 62.790772 \nL 95.891994 58.714401 \nL 99.727359 54.698707 \nL 101.188451 53.49956 \nL 102.619103 52.391777 \nL 103.319209 51.888265 \nL 103.867119 51.513358 \nL 104.536786 51.064946 \nL 104.962937 50.78165 \nL 106.180514 50.056166 \nL 113.181577 46.582958 \nL 115.160139 45.806429 \nL 116.286397 45.389953 \nL 117.047382 45.130977 \nL 121.065384 43.849627 \nL 122.343839 43.498745 \nL 123.744052 43.145281 \nL 126.361841 42.505408 \nL 130.897313 41.502321 \nL 133.971693 40.902353 \nL 135.615421 40.603849 \nL 138.354967 40.153988 \nL 143.133954 39.447661 \nL 145.203834 39.165425 \nL 146.878001 38.955395 \nL 150.439412 38.537906 \nL 152.63105 38.293513 \nL 154.761808 38.065894 \nL 156.649051 37.877474 \nL 159.936507 37.56553 \nL 162.645615 37.327018 \nL 170.529421 36.708177 \nL 203.038708 35.006355 \nL 231.012524 34.315719 \nL 272.044845 33.520988 \nL 298.770645 33.321416 \nL 331.766963 33.304522 \nL 357.366505 33.292651 \nL 363.363068 33.284635 \nL 363.363068 33.284635 \n\" style=\"fill:none;stroke:#ff7f0e;stroke-linecap:square;stroke-width:1.5;\"/>\n   </g>\n   <g id=\"line2d_15\">\n    <path clip-path=\"url(#pc5659ac8a2)\" d=\"M 58.999432 160.957666 \nL 59.273386 162.658061 \nL 59.577781 163.479405 \nL 60.064811 165.534201 \nL 60.825796 169.546913 \nL 61.799857 176.035116 \nL 63.017434 185.652011 \nL 65.300389 203.349017 \nL 66.183132 207.726071 \nL 67.30939 212.06625 \nL 68.435648 215.77401 \nL 69.592346 218.845403 \nL 70.718604 221.245937 \nL 71.905741 223.293404 \nL 73.092878 224.906578 \nL 74.310454 226.209496 \nL 75.436712 227.100188 \nL 76.684728 227.820621 \nL 78.206698 228.442761 \nL 79.972184 228.920565 \nL 82.498654 229.350903 \nL 84.964246 229.60579 \nL 88.769172 229.766083 \nL 97.170449 229.853474 \nL 133.941253 229.874199 \nL 363.363068 229.874489 \nL 363.363068 229.874489 \n\" style=\"fill:none;stroke:#1f77b4;stroke-linecap:square;stroke-width:1.5;\"/>\n   </g>\n   <g id=\"line2d_16\">\n    <path clip-path=\"url(#pc5659ac8a2)\" d=\"M 58.999432 147.824899 \nL 59.303826 148.856503 \nL 59.669099 150.287081 \nL 60.825796 155.236379 \nL 61.251948 155.958043 \nL 61.64766 156.222925 \nL 62.134691 156.282082 \nL 62.773918 155.919493 \nL 63.474025 155.646665 \nL 63.687101 155.825059 \nL 63.961055 156.795037 \nL 64.569843 158.991876 \nL 64.72204 159.008616 \nL 64.904677 158.698765 \nL 65.665662 156.60895 \nL 66.122253 155.545611 \nL 66.609284 154.95742 \nL 67.035435 154.762964 \nL 67.461587 154.55228 \nL 67.979057 153.948174 \nL 68.496527 153.485439 \nL 69.37927 153.256436 \nL 69.653224 153.496397 \nL 71.205634 162.758107 \nL 73.031999 175.385464 \nL 75.01056 189.129056 \nL 76.349894 197.036532 \nL 77.871865 204.447101 \nL 79.089441 209.254365 \nL 79.424274 210.358916 \nL 79.911305 211.902199 \nL 80.459214 213.518006 \nL 81.798548 216.949256 \nL 82.19426 217.785815 \nL 82.650852 218.682739 \nL 83.290079 219.813312 \nL 83.898867 220.852486 \nL 85.481716 223.203872 \nL 86.120944 223.99128 \nL 87.825551 225.696569 \nL 89.347521 226.758117 \nL 90.504219 227.376299 \nL 93.609038 228.464951 \nL 97.048691 229.095255 \nL 102.588663 229.546074 \nL 109.194015 229.740639 \nL 122.587354 229.844704 \nL 178.32191 229.873946 \nL 363.363068 229.874488 \nL 363.363068 229.874488 \n\" style=\"fill:none;stroke:#ff7f0e;stroke-linecap:square;stroke-width:1.5;\"/>\n   </g>\n   <g id=\"line2d_17\">\n    <path clip-path=\"url(#pc5659ac8a2)\" d=\"M 58.999432 114.190703 \nL 59.273386 116.386122 \nL 59.577781 117.124561 \nL 60.034372 118.919738 \nL 60.582281 122.050823 \nL 61.191069 126.880606 \nL 61.799857 133.553262 \nL 62.469524 143.74943 \nL 64.661162 180.663147 \nL 65.574344 191.227568 \nL 66.517965 199.787163 \nL 68.070375 211.588002 \nL 68.8618 215.313931 \nL 69.805422 218.724747 \nL 70.718604 221.242276 \nL 71.510028 222.875612 \nL 72.45365 224.372727 \nL 73.48859 225.610241 \nL 74.645287 226.622275 \nL 76.897803 227.912962 \nL 78.206698 228.401294 \nL 80.367896 228.941783 \nL 82.71173 229.345098 \nL 85.664353 229.606907 \nL 90.717295 229.781545 \nL 100.518784 229.857258 \nL 149.160957 229.874336 \nL 363.363068 229.874489 \nL 363.363068 229.874489 \n\" style=\"fill:none;stroke:#1f77b4;stroke-linecap:square;stroke-width:1.5;\"/>\n   </g>\n   <g id=\"line2d_18\">\n    <path clip-path=\"url(#pc5659ac8a2)\" d=\"M 58.999432 184.753532 \nL 59.212508 188.989786 \nL 59.516902 189.828157 \nL 60.034372 192.060757 \nL 61.373706 199.299392 \nL 62.439085 205.583139 \nL 63.413146 212.8349 \nL 64.113252 216.339893 \nL 64.874237 219.147317 \nL 66.091814 222.588285 \nL 67.248511 225.368009 \nL 67.979057 226.571362 \nL 69.470588 227.954872 \nL 70.322891 228.578509 \nL 71.236074 228.96863 \nL 72.818923 229.347533 \nL 74.827924 229.576643 \nL 78.08494 229.738825 \nL 84.964246 229.848676 \nL 110.594228 229.87403 \nL 363.363068 229.874489 \nL 363.363068 229.874489 \n\" style=\"fill:none;stroke:#ff7f0e;stroke-linecap:square;stroke-width:1.5;\"/>\n   </g>\n   <g id=\"line2d_19\">\n    <path clip-path=\"url(#pc5659ac8a2)\" d=\"M 58.999432 179.98593 \nL 59.273386 181.165457 \nL 59.577781 181.871795 \nL 60.064811 183.628511 \nL 60.795357 187.204238 \nL 61.952054 194.156805 \nL 64.113252 207.229586 \nL 66.152693 218.441615 \nL 66.944117 221.180045 \nL 67.735542 223.168654 \nL 68.587845 224.604119 \nL 69.561906 225.825447 \nL 70.688164 226.843556 \nL 71.905741 227.625693 \nL 73.305953 228.260873 \nL 75.041 228.793199 \nL 77.232637 229.208082 \nL 80.215699 229.518498 \nL 84.355458 229.715942 \nL 91.843553 229.831728 \nL 113.881684 229.871967 \nL 363.363068 229.874489 \nL 363.363068 229.874489 \n\" style=\"fill:none;stroke:#1f77b4;stroke-linecap:square;stroke-width:1.5;\"/>\n   </g>\n   <g id=\"line2d_20\">\n    <path clip-path=\"url(#pc5659ac8a2)\" d=\"M 58.999432 197.666426 \nL 59.242947 199.65611 \nL 59.547341 201.068946 \nL 60.12569 205.022236 \nL 61.64766 215.760257 \nL 62.530403 220.031716 \nL 63.20007 222.25961 \nL 63.991495 224.091005 \nL 65.087313 225.996359 \nL 65.848299 226.791474 \nL 66.974557 227.602158 \nL 68.039936 228.148683 \nL 70.353331 228.951472 \nL 72.575408 229.385836 \nL 74.919242 229.615344 \nL 78.815486 229.778135 \nL 85.938308 229.854789 \nL 124.657234 229.874407 \nL 363.363068 229.874489 \nL 363.363068 229.874489 \n\" style=\"fill:none;stroke:#ff7f0e;stroke-linecap:square;stroke-width:1.5;\"/>\n   </g>\n   <g id=\"line2d_21\">\n    <path clip-path=\"url(#pc5659ac8a2)\" d=\"M 58.999432 164.183722 \nL 59.273386 167.678245 \nL 59.577781 168.697853 \nL 60.003932 170.996106 \nL 60.551842 175.290741 \nL 61.221509 182.536422 \nL 62.317327 197.500676 \nL 62.865237 203.553129 \nL 63.595782 208.734549 \nL 65.422147 218.967705 \nL 66.091814 221.272238 \nL 66.700602 222.697409 \nL 67.583345 223.850372 \nL 68.922679 225.226412 \nL 70.353331 226.381792 \nL 71.844862 227.303809 \nL 73.45815 228.0417 \nL 75.162757 228.584827 \nL 77.415273 229.059441 \nL 80.185259 229.400342 \nL 84.142382 229.64762 \nL 90.534658 229.796876 \nL 105.236892 229.863617 \nL 203.221345 229.874475 \nL 363.363068 229.874489 \nL 363.363068 229.874489 \n\" style=\"fill:none;stroke:#1f77b4;stroke-linecap:square;stroke-width:1.5;\"/>\n   </g>\n   <g id=\"line2d_22\">\n    <path clip-path=\"url(#pc5659ac8a2)\" d=\"M 58.999432 185.913899 \nL 59.212508 189.809471 \nL 59.486462 191.282596 \nL 59.973493 195.314175 \nL 61.525903 209.078584 \nL 62.530403 213.8264 \nL 63.352267 216.675087 \nL 64.326328 219.242182 \nL 65.391707 221.569135 \nL 66.244011 222.899286 \nL 66.974557 223.674521 \nL 68.070375 224.412439 \nL 69.561906 225.321509 \nL 71.540468 226.261051 \nL 73.732105 227.058474 \nL 76.593409 227.838509 \nL 78.724168 228.217233 \nL 82.559533 228.688753 \nL 88.738733 229.154039 \nL 96.957373 229.471026 \nL 108.676545 229.677829 \nL 130.318964 229.80352 \nL 191.289097 229.865082 \nL 363.363068 229.874294 \nL 363.363068 229.874294 \n\" style=\"fill:none;stroke:#ff7f0e;stroke-linecap:square;stroke-width:1.5;\"/>\n   </g>\n   <g id=\"line2d_23\">\n    <path clip-path=\"url(#pc5659ac8a2)\" d=\"M 58.999432 150.530845 \nL 59.273386 154.247462 \nL 59.577781 155.357886 \nL 60.064811 158.091358 \nL 60.673599 163.143271 \nL 61.952054 175.864762 \nL 62.926115 184.82148 \nL 63.71754 190.065937 \nL 64.661162 194.750334 \nL 66.457087 202.202764 \nL 68.283451 208.97759 \nL 69.683664 213.28692 \nL 71.175195 217.15423 \nL 74.158257 223.947039 \nL 75.101878 225.440042 \nL 76.106379 226.623036 \nL 77.59791 227.953145 \nL 78.663289 228.536512 \nL 79.972184 228.993248 \nL 81.67679 229.344007 \nL 84.081504 229.598627 \nL 88.008187 229.766225 \nL 96.318146 229.85228 \nL 132.632359 229.874124 \nL 363.363068 229.874489 \nL 363.363068 229.874489 \n\" style=\"fill:none;stroke:#1f77b4;stroke-linecap:square;stroke-width:1.5;\"/>\n   </g>\n   <g id=\"line2d_24\">\n    <path clip-path=\"url(#pc5659ac8a2)\" d=\"M 58.999432 214.924884 \nL 59.242947 212.925886 \nL 59.547341 212.223917 \nL 60.034372 210.438171 \nL 62.012933 201.229904 \nL 63.108752 196.084465 \nL 63.778419 193.916151 \nL 64.265449 192.937046 \nL 64.569843 192.930424 \nL 64.904677 193.159463 \nL 65.26995 193.686382 \nL 65.817859 194.994029 \nL 66.609284 197.609566 \nL 67.979057 203.108764 \nL 69.318391 208.174961 \nL 70.048937 210.13828 \nL 71.083877 212.731229 \nL 72.027498 214.810677 \nL 72.575408 216.121904 \nL 73.153756 217.715404 \nL 75.406273 221.944258 \nL 76.349894 223.145397 \nL 78.206698 225.336986 \nL 80.428775 226.439804 \nL 81.768109 226.925907 \nL 84.568534 227.684879 \nL 86.699293 228.105814 \nL 89.895431 228.559758 \nL 96.044191 229.078032 \nL 104.019316 229.412786 \nL 114.794866 229.622316 \nL 133.302026 229.762091 \nL 180.300471 229.847982 \nL 363.363068 229.87373 \nL 363.363068 229.87373 \n\" style=\"fill:none;stroke:#ff7f0e;stroke-linecap:square;stroke-width:1.5;\"/>\n   </g>\n   <g id=\"line2d_25\">\n    <path clip-path=\"url(#pc5659ac8a2)\" d=\"M 58.999432 134.391871 \nL 59.273386 135.75856 \nL 59.638659 136.170526 \nL 60.186569 137.160421 \nL 60.917114 138.989302 \nL 61.799857 141.842678 \nL 62.6826 145.435855 \nL 63.504464 149.754168 \nL 64.143692 154.573028 \nL 64.965556 162.587458 \nL 67.30939 186.895975 \nL 67.918178 193.583159 \nL 68.648724 202.185647 \nL 69.227073 207.080505 \nL 69.835861 210.126045 \nL 70.718604 215.04051 \nL 71.144755 217.86217 \nL 71.357831 218.678303 \nL 71.41871 218.630422 \nL 71.510028 218.732857 \nL 71.723104 219.505753 \nL 72.027498 220.517226 \nL 72.544968 221.852364 \nL 73.427711 223.486856 \nL 73.884302 224.177187 \nL 74.675727 225.152564 \nL 75.680227 226.131783 \nL 77.537031 227.479588 \nL 79.515593 228.385159 \nL 80.580972 228.715289 \nL 82.255139 229.101182 \nL 84.507655 229.412138 \nL 89.834552 229.686845 \nL 97.413964 229.819345 \nL 129.98413 229.873169 \nL 363.363068 229.874489 \nL 363.363068 229.874489 \n\" style=\"fill:none;stroke:#1f77b4;stroke-linecap:square;stroke-width:1.5;\"/>\n   </g>\n   <g id=\"line2d_26\">\n    <path clip-path=\"url(#pc5659ac8a2)\" d=\"M 58.999432 229.846028 \nL 60.308326 229.803655 \nL 62.6826 229.600446 \nL 64.143692 229.27453 \nL 65.513465 228.724327 \nL 66.152693 228.049665 \nL 66.79192 227.045836 \nL 67.492027 225.496901 \nL 68.222572 223.303625 \nL 69.34883 219.955868 \nL 69.683664 219.022151 \nL 70.079376 214.035617 \nL 70.566407 205.659234 \nL 71.479589 183.400357 \nL 71.540468 183.567103 \nL 71.692665 184.94615 \nL 72.057938 188.911939 \nL 72.179695 189.843291 \nL 72.636286 194.062241 \nL 72.94068 195.639216 \nL 73.123317 196.103719 \nL 73.640787 197.257402 \nL 73.701666 197.215554 \nL 73.732105 197.24993 \nL 73.853863 197.46197 \nL 73.884302 197.42813 \nL 73.97562 197.317566 \nL 74.00606 197.337813 \nL 74.097378 197.456809 \nL 74.127817 197.420447 \nL 75.588909 193.374491 \nL 75.801985 192.666888 \nL 76.928243 188.989327 \nL 77.019561 188.776771 \nL 77.323955 187.788215 \nL 79.059001 182.787447 \nL 79.089441 182.810459 \nL 79.180759 182.598031 \nL 79.332956 182.233235 \nL 79.393835 182.231873 \nL 79.515593 181.719207 \nL 79.698229 181.370618 \nL 81.068002 177.875379 \nL 81.128881 177.83907 \nL 82.407336 174.598278 \nL 82.468215 174.544568 \nL 82.863927 173.641309 \nL 83.837988 172.008187 \nL 84.020625 171.835558 \nL 84.325019 171.541091 \nL 84.477216 171.603678 \nL 84.507655 171.543549 \nL 84.629413 171.331385 \nL 84.690292 171.378606 \nL 84.78161 171.419554 \nL 84.812049 171.383669 \nL 84.964246 171.146254 \nL 85.025125 171.205699 \nL 85.177322 171.110799 \nL 85.329519 171.015492 \nL 85.877429 170.754541 \nL 85.968747 170.787821 \nL 86.029626 170.859939 \nL 86.090505 170.791193 \nL 86.212262 170.623709 \nL 86.242702 170.644381 \nL 86.33402 170.675815 \nL 86.364459 170.643744 \nL 86.455777 170.593942 \nL 86.486217 170.631772 \nL 86.790611 170.528019 \nL 86.85149 170.404072 \nL 86.912369 170.463475 \nL 87.034126 170.660443 \nL 87.095005 170.615085 \nL 87.247202 170.465273 \nL 87.277641 170.510501 \nL 87.36896 170.529357 \nL 87.399399 170.483864 \nL 87.673354 170.452347 \nL 87.734233 170.50186 \nL 87.764672 170.472069 \nL 87.825551 170.401637 \nL 87.88643 170.458058 \nL 89.347521 170.403641 \nL 89.4084 170.393185 \nL 89.438839 170.437045 \nL 89.651915 170.398666 \nL 89.712794 170.329873 \nL 89.743233 170.365339 \nL 89.834552 170.434876 \nL 89.864991 170.392872 \nL 89.92587 170.336068 \nL 89.956309 170.376114 \nL 90.047628 170.45705 \nL 90.078067 170.418613 \nL 90.138946 170.320571 \nL 90.199825 170.391346 \nL 90.260703 170.428616 \nL 90.291143 170.398884 \nL 90.352022 170.316327 \nL 90.4129 170.398378 \nL 90.595537 170.421873 \nL 90.839052 170.420446 \nL 90.96081 170.32857 \nL 91.021689 170.313315 \nL 91.052128 170.361449 \nL 91.143446 170.492818 \nL 91.173886 170.474922 \nL 91.326083 170.272125 \nL 91.356522 170.296351 \nL 91.508719 170.520616 \nL 91.539159 170.484224 \nL 91.721795 170.247398 \nL 91.752234 170.299469 \nL 91.873992 170.47797 \nL 91.904431 170.445898 \nL 92.026189 170.349873 \nL 92.056628 170.378496 \nL 92.391462 170.388593 \nL 92.48278 170.338526 \nL 92.51322 170.374057 \nL 92.787174 170.435884 \nL 92.908932 170.332231 \nL 92.939371 170.390638 \nL 93.030689 170.375531 \nL 93.091568 170.303625 \nL 93.152447 170.37879 \nL 93.365523 170.398767 \nL 93.548159 170.331918 \nL 93.700356 170.352979 \nL 93.913432 170.358502 \nL 93.974311 170.339834 \nL 94.004751 170.386937 \nL 94.248266 170.410272 \nL 94.613539 170.359922 \nL 94.796175 170.402038 \nL 95.161448 170.366247 \nL 95.344084 170.390414 \nL 95.648479 170.368304 \nL 95.861554 170.421831 \nL 96.044191 170.367114 \nL 96.226827 170.438418 \nL 97.170449 170.414776 \nL 97.292207 170.509027 \nL 97.322646 170.475918 \nL 97.444404 170.325293 \nL 97.474843 170.347839 \nL 97.657479 170.486281 \nL 97.779237 170.34356 \nL 97.840116 170.421366 \nL 97.961874 170.534049 \nL 97.992313 170.516843 \nL 98.14451 170.396986 \nL 98.174949 170.4494 \nL 98.266268 170.472028 \nL 98.296707 170.431551 \nL 98.418465 170.478217 \nL 98.996813 170.47023 \nL 99.088132 170.491497 \nL 99.17945 170.550459 \nL 99.209889 170.520993 \nL 99.301207 170.452217 \nL 99.331647 170.488491 \nL 99.514283 170.513613 \nL 99.636041 170.444089 \nL 99.66648 170.4899 \nL 99.849117 170.495724 \nL 100.092632 170.489393 \nL 101.036254 170.555175 \nL 101.158011 170.534721 \nL 101.279769 170.497828 \nL 101.401527 170.556336 \nL 101.492845 170.510996 \nL 101.523284 170.549056 \nL 101.614602 170.543822 \nL 101.645042 170.499779 \nL 101.73636 170.502131 \nL 101.858118 170.578646 \nL 101.888557 170.543215 \nL 101.979875 170.475942 \nL 102.010315 170.500893 \nL 102.132072 170.542083 \nL 102.223391 170.514303 \nL 102.25383 170.546587 \nL 102.375588 170.61897 \nL 102.406027 170.589863 \nL 102.497345 170.519348 \nL 102.527785 170.548885 \nL 102.619103 170.629939 \nL 102.649542 170.61014 \nL 102.801739 170.497793 \nL 102.832179 170.544482 \nL 102.953936 170.65914 \nL 102.984376 170.630146 \nL 103.106133 170.484601 \nL 103.136573 170.508591 \nL 103.28877 170.642766 \nL 103.319209 170.608967 \nL 103.410527 170.543356 \nL 103.440967 170.575275 \nL 103.562725 170.622212 \nL 103.714922 170.540244 \nL 103.745361 170.577031 \nL 103.867119 170.669137 \nL 103.897558 170.643255 \nL 104.049755 170.53534 \nL 104.080194 170.564435 \nL 104.201952 170.648041 \nL 104.232391 170.616571 \nL 104.354149 170.592457 \nL 104.506346 170.600167 \nL 104.81074 170.618481 \nL 104.932498 170.665483 \nL 105.054255 170.624776 \nL 105.206453 170.664492 \nL 105.32821 170.607405 \nL 105.35865 170.642005 \nL 105.480407 170.74089 \nL 105.510847 170.713681 \nL 105.663044 170.595439 \nL 105.693483 170.637861 \nL 105.815241 170.710433 \nL 105.906559 170.672143 \nL 105.936998 170.70458 \nL 106.058756 170.653163 \nL 106.150074 170.661858 \nL 106.271832 170.714047 \nL 106.36315 170.681156 \nL 106.393589 170.708913 \nL 109.711485 171.381476 \nL 109.894121 171.440084 \nL 110.47247 171.57786 \nL 110.594228 171.628517 \nL 110.624667 171.601055 \nL 110.746425 171.658042 \nL 110.98994 171.729399 \nL 111.385652 171.797657 \nL 111.598728 171.834768 \nL 114.003441 172.386626 \nL 114.277396 172.492731 \nL 114.58179 172.566299 \nL 114.886184 172.589488 \nL 115.190578 172.684452 \nL 115.342775 172.698446 \nL 115.464533 172.757555 \nL 115.494972 172.730806 \nL 115.61673 172.719135 \nL 115.799366 172.803213 \nL 115.921124 172.797018 \nL 116.1342 172.855355 \nL 116.377715 172.893692 \nL 116.742988 173.002285 \nL 116.956064 173.03537 \nL 121.491536 173.913124 \nL 121.643733 173.969775 \nL 121.79593 173.981257 \nL 124.900749 174.556115 \nL 125.205143 174.57948 \nL 125.631295 174.720598 \nL 128.188205 175.170589 \nL 128.340402 175.199513 \nL 128.492599 175.248855 \nL 128.644796 175.240491 \nL 128.827433 175.27492 \nL 130.075449 175.509907 \nL 130.349403 175.567766 \nL 153.300716 179.703223 \nL 153.757308 179.814297 \nL 154.64005 179.955486 \nL 154.974884 180.027391 \nL 155.918506 180.187767 \nL 156.2229 180.239066 \nL 157.683991 180.478844 \nL 158.292779 180.584289 \nL 158.718931 180.682198 \nL 158.932007 180.70803 \nL 160.606174 181.000814 \nL 160.788811 181.033976 \nL 161.275841 181.116943 \nL 162.280342 181.30552 \nL 162.85869 181.375952 \nL 167.546359 182.212333 \nL 168.276905 182.321913 \nL 168.55086 182.365113 \nL 170.742497 182.736136 \nL 171.807876 182.912591 \nL 172.477543 183.039477 \nL 175.612802 183.570322 \nL 178.352349 184.028485 \nL 178.961137 184.126931 \nL 179.265531 184.181401 \nL 180.087395 184.320753 \nL 182.826942 184.769848 \nL 183.374851 184.854194 \nL 184.9577 185.120907 \nL 185.170776 185.170574 \nL 185.596928 185.233803 \nL 185.870883 185.269081 \nL 187.575489 185.545782 \nL 187.971202 185.616627 \nL 189.006142 185.780589 \nL 189.340975 185.847325 \nL 190.64987 186.034543 \nL 191.228218 186.134819 \nL 191.958764 186.255731 \nL 192.354476 186.315512 \nL 192.902386 186.415381 \nL 193.419856 186.483721 \nL 194.150401 186.620288 \nL 194.911387 186.725297 \nL 195.428857 186.822587 \nL 196.007205 186.909556 \nL 196.585554 187.017147 \nL 203.891012 188.162347 \nL 204.378042 188.243678 \nL 205.443422 188.401333 \nL 206.265286 188.543365 \nL 207.05671 188.644566 \nL 207.452423 188.724632 \nL 207.878574 188.77073 \nL 208.60912 188.904294 \nL 209.035272 188.956981 \nL 209.887575 189.092685 \nL 212.596682 189.506051 \nL 213.022834 189.581181 \nL 213.327228 189.631752 \nL 213.875138 189.715874 \nL 271.496936 198.038316 \nL 272.136164 198.116228 \nL 272.775391 198.211367 \nL 275.971529 198.642195 \nL 276.671635 198.742574 \nL 277.249984 198.816334 \nL 279.411182 199.102822 \nL 279.959091 199.174976 \nL 282.211608 199.477866 \nL 283.368305 199.632173 \nL 284.281487 199.754016 \nL 285.742579 199.944273 \nL 286.655761 200.06868 \nL 287.538504 200.180399 \nL 288.086413 200.251085 \nL 293.595946 200.968202 \nL 294.783083 201.125447 \nL 300.323055 201.834623 \nL 301.449313 201.980115 \nL 302.210298 202.069757 \nL 302.819087 202.14777 \nL 305.254239 202.454438 \nL 306.563134 202.618915 \nL 307.506755 202.742247 \nL 308.024225 202.80318 \nL 310.002787 203.057453 \nL 314.933971 203.66621 \nL 315.725395 203.762581 \nL 317.764836 204.00838 \nL 319.225927 204.191614 \nL 320.169549 204.301898 \nL 322.482944 204.582504 \nL 324.796339 204.86077 \nL 326.896658 205.116364 \nL 327.688083 205.209242 \nL 330.458069 205.550563 \nL 341.17274 206.784756 \nL 341.994604 206.877587 \nL 345.342939 207.258115 \nL 346.590955 207.399114 \nL 349.086986 207.681789 \nL 351.583017 207.963577 \nL 352.374442 208.049898 \nL 354.353004 208.267683 \nL 355.692337 208.415526 \nL 357.792657 208.648279 \nL 358.797157 208.767797 \nL 360.045173 208.885325 \nL 363.363068 209.256265 \nL 363.363068 209.256265 \n\" style=\"fill:none;stroke:#ff7f0e;stroke-linecap:square;stroke-width:1.5;\"/>\n   </g>\n   <g id=\"line2d_27\">\n    <path clip-path=\"url(#pc5659ac8a2)\" d=\"M 58.999432 146.506421 \nL 59.273386 147.522169 \nL 59.699538 147.851183 \nL 60.247448 148.577073 \nL 60.856236 149.78608 \nL 61.434584 151.432783 \nL 62.16513 154.294028 \nL 62.834797 157.883114 \nL 63.839298 164.795343 \nL 64.935116 173.743329 \nL 67.248511 192.747674 \nL 68.770482 202.098855 \nL 70.262013 209.858107 \nL 71.510028 215.250705 \nL 72.544968 218.831796 \nL 73.519029 221.437757 \nL 75.041 224.624029 \nL 75.862864 225.876214 \nL 77.110879 227.327513 \nL 78.024062 228.052288 \nL 79.059001 228.599694 \nL 80.367896 229.036353 \nL 82.102942 229.367199 \nL 84.598974 229.603878 \nL 89.134445 229.776892 \nL 98.327146 229.854728 \nL 143.103515 229.874295 \nL 363.363068 229.874489 \nL 363.363068 229.874489 \n\" style=\"fill:none;stroke:#1f77b4;stroke-linecap:square;stroke-width:1.5;\"/>\n   </g>\n   <g id=\"line2d_28\">\n    <path clip-path=\"url(#pc5659ac8a2)\" d=\"M 58.999432 48.699344 \nL 59.242947 51.892403 \nL 59.547341 52.791465 \nL 59.973493 54.82836 \nL 60.490963 58.442669 \nL 61.282387 65.918497 \nL 61.952054 74.784227 \nL 62.6826 87.697291 \nL 63.534904 107.013391 \nL 66.335329 174.565281 \nL 67.065875 185.298155 \nL 67.796421 192.895485 \nL 68.618285 199.118481 \nL 69.34883 203.437006 \nL 70.353331 207.842845 \nL 71.266513 210.812798 \nL 74.949681 221.152091 \nL 76.136818 223.035394 \nL 76.654288 223.537148 \nL 79.819987 226.25778 \nL 81.372396 227.155605 \nL 83.016124 227.892192 \nL 84.872928 228.420972 \nL 87.490717 228.891054 \nL 91.234764 229.291965 \nL 95.496282 229.525497 \nL 104.232391 229.728536 \nL 112.877183 229.720337 \nL 172.020952 229.854931 \nL 363.363068 229.874397 \nL 363.363068 229.874397 \n\" style=\"fill:none;stroke:#ff7f0e;stroke-linecap:square;stroke-width:1.5;\"/>\n   </g>\n   <g id=\"line2d_29\">\n    <path clip-path=\"url(#pc5659ac8a2)\" d=\"M 58.999432 165.635791 \nL 59.273386 167.586404 \nL 59.60822 168.784012 \nL 60.12569 171.556611 \nL 61.008433 177.708184 \nL 63.474025 195.484509 \nL 65.026435 203.548617 \nL 66.152693 208.059685 \nL 67.157193 210.690207 \nL 68.009496 212.387039 \nL 69.34883 214.516972 \nL 69.927179 215.292657 \nL 70.718604 217.469382 \nL 72.45365 223.369015 \nL 73.092878 224.702204 \nL 73.914742 225.946842 \nL 74.827924 226.951076 \nL 75.862864 227.762309 \nL 76.958682 228.362087 \nL 78.358895 228.870637 \nL 80.063502 229.248954 \nL 82.407336 229.532368 \nL 85.968747 229.723798 \nL 92.848053 229.834172 \nL 114.551351 229.872485 \nL 363.363068 229.874489 \nL 363.363068 229.874489 \n\" style=\"fill:none;stroke:#1f77b4;stroke-linecap:square;stroke-width:1.5;\"/>\n   </g>\n   <g id=\"line2d_30\">\n    <path clip-path=\"url(#pc5659ac8a2)\" d=\"M 58.999432 176.376384 \nL 59.242947 174.683287 \nL 59.547341 173.730916 \nL 59.973493 171.59414 \nL 60.490963 167.727009 \nL 61.191069 160.513093 \nL 62.226009 147.234427 \nL 64.23501 121.323937 \nL 65.178632 112.120045 \nL 66.365768 101.772049 \nL 67.948618 91.73061 \nL 68.709603 87.29521 \nL 69.927179 80.112487 \nL 71.997059 54.107781 \nL 72.575408 50.384732 \nL 73.184196 47.832407 \nL 73.97562 45.516377 \nL 75.041 43.11048 \nL 76.289015 40.839955 \nL 77.384834 39.277442 \nL 78.663289 37.888626 \nL 79.819987 36.919951 \nL 81.128881 36.069211 \nL 82.863927 35.232087 \nL 84.629413 34.623266 \nL 87.277641 33.98074 \nL 90.260703 33.507549 \nL 93.791675 33.149122 \nL 98.753298 32.848036 \nL 111.659607 32.564138 \nL 170.986012 32.307625 \nL 224.194097 32.253844 \nL 320.047791 32.216438 \nL 363.363068 32.201761 \nL 363.363068 32.201761 \n\" style=\"fill:none;stroke:#ff7f0e;stroke-linecap:square;stroke-width:1.5;\"/>\n   </g>\n   <g id=\"line2d_31\">\n    <path clip-path=\"url(#pc5659ac8a2)\" d=\"M 58.999432 119.963284 \nL 60.003932 119.984433 \nL 60.917114 120.158943 \nL 61.434584 120.455314 \nL 61.891176 120.990891 \nL 62.286888 121.848162 \nL 62.6826 123.262312 \nL 63.047873 125.540029 \nL 63.504464 130.017279 \nL 65.513465 151.369872 \nL 66.578844 160.98313 \nL 69.166194 186.037806 \nL 71.41871 204.043308 \nL 72.94068 214.228535 \nL 73.853863 218.706754 \nL 74.645287 221.538308 \nL 75.467151 223.658983 \nL 76.258576 225.132567 \nL 77.171758 226.344496 \nL 78.08494 227.201366 \nL 79.180759 227.921349 \nL 80.520093 228.510426 \nL 82.19426 228.976187 \nL 84.385898 229.332113 \nL 87.642914 229.599278 \nL 92.452341 229.760136 \nL 103.654043 229.852172 \nL 150.439412 229.874037 \nL 363.363068 229.874489 \nL 363.363068 229.874489 \n\" style=\"fill:none;stroke:#1f77b4;stroke-linecap:square;stroke-width:1.5;\"/>\n   </g>\n   <g id=\"line2d_32\">\n    <path clip-path=\"url(#pc5659ac8a2)\" d=\"M 58.999432 229.874017 \nL 64.995995 229.743326 \nL 66.061374 229.4936 \nL 66.761481 229.081207 \nL 67.522466 228.36541 \nL 70.140255 225.397206 \nL 71.053437 224.059785 \nL 71.692665 223.66575 \nL 72.301453 223.510971 \nL 73.245075 223.398014 \nL 74.158257 223.073259 \nL 75.223636 222.45241 \nL 80.124381 219.614593 \nL 81.341957 219.042037 \nL 82.833488 218.41308 \nL 83.655352 218.216436 \nL 85.938308 218.402738 \nL 87.33852 218.595944 \nL 89.438839 218.917981 \nL 90.44334 219.040311 \nL 95.404963 219.713668 \nL 96.713858 219.897327 \nL 100.244829 220.358835 \nL 101.279769 220.486918 \nL 102.223391 220.606316 \nL 104.628104 220.901367 \nL 106.941499 221.178426 \nL 120.517475 222.363709 \nL 122.252521 222.500647 \nL 129.162266 223.004559 \nL 131.323464 223.151389 \nL 136.193769 223.471354 \nL 160.575735 224.821832 \nL 164.715494 225.011387 \nL 166.876692 225.108434 \nL 174.638741 225.441721 \nL 179.143774 225.621664 \nL 187.697247 225.820307 \nL 193.846007 225.921663 \nL 207.208907 226.15496 \nL 210.16153 226.205446 \nL 223.707066 226.434905 \nL 229.064402 226.521183 \nL 314.386061 227.66395 \nL 327.657643 227.807977 \nL 348.813031 228.021421 \nL 363.363068 228.156686 \nL 363.363068 228.156686 \n\" style=\"fill:none;stroke:#ff7f0e;stroke-linecap:square;stroke-width:1.5;\"/>\n   </g>\n   <g id=\"patch_3\">\n    <path d=\"M 43.78125 239.758125 \nL 43.78125 22.318125 \n\" style=\"fill:none;stroke:#000000;stroke-linecap:square;stroke-linejoin:miter;stroke-width:0.8;\"/>\n   </g>\n   <g id=\"patch_4\">\n    <path d=\"M 378.58125 239.758125 \nL 378.58125 22.318125 \n\" style=\"fill:none;stroke:#000000;stroke-linecap:square;stroke-linejoin:miter;stroke-width:0.8;\"/>\n   </g>\n   <g id=\"patch_5\">\n    <path d=\"M 43.78125 239.758125 \nL 378.58125 239.758125 \n\" style=\"fill:none;stroke:#000000;stroke-linecap:square;stroke-linejoin:miter;stroke-width:0.8;\"/>\n   </g>\n   <g id=\"patch_6\">\n    <path d=\"M 43.78125 22.318125 \nL 378.58125 22.318125 \n\" style=\"fill:none;stroke:#000000;stroke-linecap:square;stroke-linejoin:miter;stroke-width:0.8;\"/>\n   </g>\n   <g id=\"text_15\">\n    <!-- model mean_squared_error -->\n    <g transform=\"translate(128.805938 16.318125)scale(0.12 -0.12)\">\n     <defs>\n      <path d=\"M 52 44.1875 \nQ 55.375 50.25 60.0625 53.125 \nQ 64.75 56 71.09375 56 \nQ 79.640625 56 84.28125 50.015625 \nQ 88.921875 44.046875 88.921875 33.015625 \nL 88.921875 0 \nL 79.890625 0 \nL 79.890625 32.71875 \nQ 79.890625 40.578125 77.09375 44.375 \nQ 74.3125 48.1875 68.609375 48.1875 \nQ 61.625 48.1875 57.5625 43.546875 \nQ 53.515625 38.921875 53.515625 30.90625 \nL 53.515625 0 \nL 44.484375 0 \nL 44.484375 32.71875 \nQ 44.484375 40.625 41.703125 44.40625 \nQ 38.921875 48.1875 33.109375 48.1875 \nQ 26.21875 48.1875 22.15625 43.53125 \nQ 18.109375 38.875 18.109375 30.90625 \nL 18.109375 0 \nL 9.078125 0 \nL 9.078125 54.6875 \nL 18.109375 54.6875 \nL 18.109375 46.1875 \nQ 21.1875 51.21875 25.484375 53.609375 \nQ 29.78125 56 35.6875 56 \nQ 41.65625 56 45.828125 52.96875 \nQ 50 49.953125 52 44.1875 \nz\n\" id=\"DejaVuSans-109\"/>\n      <path d=\"M 45.40625 46.390625 \nL 45.40625 75.984375 \nL 54.390625 75.984375 \nL 54.390625 0 \nL 45.40625 0 \nL 45.40625 8.203125 \nQ 42.578125 3.328125 38.25 0.953125 \nQ 33.9375 -1.421875 27.875 -1.421875 \nQ 17.96875 -1.421875 11.734375 6.484375 \nQ 5.515625 14.40625 5.515625 27.296875 \nQ 5.515625 40.1875 11.734375 48.09375 \nQ 17.96875 56 27.875 56 \nQ 33.9375 56 38.25 53.625 \nQ 42.578125 51.265625 45.40625 46.390625 \nz\nM 14.796875 27.296875 \nQ 14.796875 17.390625 18.875 11.75 \nQ 22.953125 6.109375 30.078125 6.109375 \nQ 37.203125 6.109375 41.296875 11.75 \nQ 45.40625 17.390625 45.40625 27.296875 \nQ 45.40625 37.203125 41.296875 42.84375 \nQ 37.203125 48.484375 30.078125 48.484375 \nQ 22.953125 48.484375 18.875 42.84375 \nQ 14.796875 37.203125 14.796875 27.296875 \nz\n\" id=\"DejaVuSans-100\"/>\n      <path d=\"M 9.421875 75.984375 \nL 18.40625 75.984375 \nL 18.40625 0 \nL 9.421875 0 \nz\n\" id=\"DejaVuSans-108\"/>\n      <path id=\"DejaVuSans-32\"/>\n      <path d=\"M 34.28125 27.484375 \nQ 23.390625 27.484375 19.1875 25 \nQ 14.984375 22.515625 14.984375 16.5 \nQ 14.984375 11.71875 18.140625 8.90625 \nQ 21.296875 6.109375 26.703125 6.109375 \nQ 34.1875 6.109375 38.703125 11.40625 \nQ 43.21875 16.703125 43.21875 25.484375 \nL 43.21875 27.484375 \nz\nM 52.203125 31.203125 \nL 52.203125 0 \nL 43.21875 0 \nL 43.21875 8.296875 \nQ 40.140625 3.328125 35.546875 0.953125 \nQ 30.953125 -1.421875 24.3125 -1.421875 \nQ 15.921875 -1.421875 10.953125 3.296875 \nQ 6 8.015625 6 15.921875 \nQ 6 25.140625 12.171875 29.828125 \nQ 18.359375 34.515625 30.609375 34.515625 \nL 43.21875 34.515625 \nL 43.21875 35.40625 \nQ 43.21875 41.609375 39.140625 45 \nQ 35.0625 48.390625 27.6875 48.390625 \nQ 23 48.390625 18.546875 47.265625 \nQ 14.109375 46.140625 10.015625 43.890625 \nL 10.015625 52.203125 \nQ 14.9375 54.109375 19.578125 55.046875 \nQ 24.21875 56 28.609375 56 \nQ 40.484375 56 46.34375 49.84375 \nQ 52.203125 43.703125 52.203125 31.203125 \nz\n\" id=\"DejaVuSans-97\"/>\n      <path d=\"M 54.890625 33.015625 \nL 54.890625 0 \nL 45.90625 0 \nL 45.90625 32.71875 \nQ 45.90625 40.484375 42.875 44.328125 \nQ 39.84375 48.1875 33.796875 48.1875 \nQ 26.515625 48.1875 22.3125 43.546875 \nQ 18.109375 38.921875 18.109375 30.90625 \nL 18.109375 0 \nL 9.078125 0 \nL 9.078125 54.6875 \nL 18.109375 54.6875 \nL 18.109375 46.1875 \nQ 21.34375 51.125 25.703125 53.5625 \nQ 30.078125 56 35.796875 56 \nQ 45.21875 56 50.046875 50.171875 \nQ 54.890625 44.34375 54.890625 33.015625 \nz\n\" id=\"DejaVuSans-110\"/>\n      <path d=\"M 50.984375 -16.609375 \nL 50.984375 -23.578125 \nL -0.984375 -23.578125 \nL -0.984375 -16.609375 \nz\n\" id=\"DejaVuSans-95\"/>\n      <path d=\"M 44.28125 53.078125 \nL 44.28125 44.578125 \nQ 40.484375 46.53125 36.375 47.5 \nQ 32.28125 48.484375 27.875 48.484375 \nQ 21.1875 48.484375 17.84375 46.4375 \nQ 14.5 44.390625 14.5 40.28125 \nQ 14.5 37.15625 16.890625 35.375 \nQ 19.28125 33.59375 26.515625 31.984375 \nL 29.59375 31.296875 \nQ 39.15625 29.25 43.1875 25.515625 \nQ 47.21875 21.78125 47.21875 15.09375 \nQ 47.21875 7.46875 41.1875 3.015625 \nQ 35.15625 -1.421875 24.609375 -1.421875 \nQ 20.21875 -1.421875 15.453125 -0.5625 \nQ 10.6875 0.296875 5.421875 2 \nL 5.421875 11.28125 \nQ 10.40625 8.6875 15.234375 7.390625 \nQ 20.0625 6.109375 24.8125 6.109375 \nQ 31.15625 6.109375 34.5625 8.28125 \nQ 37.984375 10.453125 37.984375 14.40625 \nQ 37.984375 18.0625 35.515625 20.015625 \nQ 33.0625 21.96875 24.703125 23.78125 \nL 21.578125 24.515625 \nQ 13.234375 26.265625 9.515625 29.90625 \nQ 5.8125 33.546875 5.8125 39.890625 \nQ 5.8125 47.609375 11.28125 51.796875 \nQ 16.75 56 26.8125 56 \nQ 31.78125 56 36.171875 55.265625 \nQ 40.578125 54.546875 44.28125 53.078125 \nz\n\" id=\"DejaVuSans-115\"/>\n      <path d=\"M 14.796875 27.296875 \nQ 14.796875 17.390625 18.875 11.75 \nQ 22.953125 6.109375 30.078125 6.109375 \nQ 37.203125 6.109375 41.296875 11.75 \nQ 45.40625 17.390625 45.40625 27.296875 \nQ 45.40625 37.203125 41.296875 42.84375 \nQ 37.203125 48.484375 30.078125 48.484375 \nQ 22.953125 48.484375 18.875 42.84375 \nQ 14.796875 37.203125 14.796875 27.296875 \nz\nM 45.40625 8.203125 \nQ 42.578125 3.328125 38.25 0.953125 \nQ 33.9375 -1.421875 27.875 -1.421875 \nQ 17.96875 -1.421875 11.734375 6.484375 \nQ 5.515625 14.40625 5.515625 27.296875 \nQ 5.515625 40.1875 11.734375 48.09375 \nQ 17.96875 56 27.875 56 \nQ 33.9375 56 38.25 53.625 \nQ 42.578125 51.265625 45.40625 46.390625 \nL 45.40625 54.6875 \nL 54.390625 54.6875 \nL 54.390625 -20.796875 \nL 45.40625 -20.796875 \nz\n\" id=\"DejaVuSans-113\"/>\n      <path d=\"M 8.5 21.578125 \nL 8.5 54.6875 \nL 17.484375 54.6875 \nL 17.484375 21.921875 \nQ 17.484375 14.15625 20.5 10.265625 \nQ 23.53125 6.390625 29.59375 6.390625 \nQ 36.859375 6.390625 41.078125 11.03125 \nQ 45.3125 15.671875 45.3125 23.6875 \nL 45.3125 54.6875 \nL 54.296875 54.6875 \nL 54.296875 0 \nL 45.3125 0 \nL 45.3125 8.40625 \nQ 42.046875 3.421875 37.71875 1 \nQ 33.40625 -1.421875 27.6875 -1.421875 \nQ 18.265625 -1.421875 13.375 4.4375 \nQ 8.5 10.296875 8.5 21.578125 \nz\nM 31.109375 56 \nz\n\" id=\"DejaVuSans-117\"/>\n      <path d=\"M 41.109375 46.296875 \nQ 39.59375 47.171875 37.8125 47.578125 \nQ 36.03125 48 33.890625 48 \nQ 26.265625 48 22.1875 43.046875 \nQ 18.109375 38.09375 18.109375 28.8125 \nL 18.109375 0 \nL 9.078125 0 \nL 9.078125 54.6875 \nL 18.109375 54.6875 \nL 18.109375 46.1875 \nQ 20.953125 51.171875 25.484375 53.578125 \nQ 30.03125 56 36.53125 56 \nQ 37.453125 56 38.578125 55.875 \nQ 39.703125 55.765625 41.0625 55.515625 \nz\n\" id=\"DejaVuSans-114\"/>\n     </defs>\n     <use xlink:href=\"#DejaVuSans-109\"/>\n     <use x=\"97.412109\" xlink:href=\"#DejaVuSans-111\"/>\n     <use x=\"158.59375\" xlink:href=\"#DejaVuSans-100\"/>\n     <use x=\"222.070312\" xlink:href=\"#DejaVuSans-101\"/>\n     <use x=\"283.59375\" xlink:href=\"#DejaVuSans-108\"/>\n     <use x=\"311.376953\" xlink:href=\"#DejaVuSans-32\"/>\n     <use x=\"343.164062\" xlink:href=\"#DejaVuSans-109\"/>\n     <use x=\"440.576172\" xlink:href=\"#DejaVuSans-101\"/>\n     <use x=\"502.099609\" xlink:href=\"#DejaVuSans-97\"/>\n     <use x=\"563.378906\" xlink:href=\"#DejaVuSans-110\"/>\n     <use x=\"626.757812\" xlink:href=\"#DejaVuSans-95\"/>\n     <use x=\"676.757812\" xlink:href=\"#DejaVuSans-115\"/>\n     <use x=\"728.857422\" xlink:href=\"#DejaVuSans-113\"/>\n     <use x=\"792.333984\" xlink:href=\"#DejaVuSans-117\"/>\n     <use x=\"855.712891\" xlink:href=\"#DejaVuSans-97\"/>\n     <use x=\"916.992188\" xlink:href=\"#DejaVuSans-114\"/>\n     <use x=\"955.855469\" xlink:href=\"#DejaVuSans-101\"/>\n     <use x=\"1017.378906\" xlink:href=\"#DejaVuSans-100\"/>\n     <use x=\"1080.855469\" xlink:href=\"#DejaVuSans-95\"/>\n     <use x=\"1130.855469\" xlink:href=\"#DejaVuSans-101\"/>\n     <use x=\"1192.378906\" xlink:href=\"#DejaVuSans-114\"/>\n     <use x=\"1231.742188\" xlink:href=\"#DejaVuSans-114\"/>\n     <use x=\"1270.605469\" xlink:href=\"#DejaVuSans-111\"/>\n     <use x=\"1331.787109\" xlink:href=\"#DejaVuSans-114\"/>\n    </g>\n   </g>\n   <g id=\"legend_1\">\n    <g id=\"patch_7\">\n     <path d=\"M 50.78125 59.674375 \nL 106.05625 59.674375 \nQ 108.05625 59.674375 108.05625 57.674375 \nL 108.05625 29.318125 \nQ 108.05625 27.318125 106.05625 27.318125 \nL 50.78125 27.318125 \nQ 48.78125 27.318125 48.78125 29.318125 \nL 48.78125 57.674375 \nQ 48.78125 59.674375 50.78125 59.674375 \nz\n\" style=\"fill:#ffffff;opacity:0.8;stroke:#cccccc;stroke-linejoin:miter;\"/>\n    </g>\n    <g id=\"line2d_33\">\n     <path d=\"M 52.78125 35.416562 \nL 72.78125 35.416562 \n\" style=\"fill:none;stroke:#1f77b4;stroke-linecap:square;stroke-width:1.5;\"/>\n    </g>\n    <g id=\"line2d_34\"/>\n    <g id=\"text_16\">\n     <!-- train -->\n     <g transform=\"translate(80.78125 38.916562)scale(0.1 -0.1)\">\n      <defs>\n       <path d=\"M 18.3125 70.21875 \nL 18.3125 54.6875 \nL 36.8125 54.6875 \nL 36.8125 47.703125 \nL 18.3125 47.703125 \nL 18.3125 18.015625 \nQ 18.3125 11.328125 20.140625 9.421875 \nQ 21.96875 7.515625 27.59375 7.515625 \nL 36.8125 7.515625 \nL 36.8125 0 \nL 27.59375 0 \nQ 17.1875 0 13.234375 3.875 \nQ 9.28125 7.765625 9.28125 18.015625 \nL 9.28125 47.703125 \nL 2.6875 47.703125 \nL 2.6875 54.6875 \nL 9.28125 54.6875 \nL 9.28125 70.21875 \nz\n\" id=\"DejaVuSans-116\"/>\n       <path d=\"M 9.421875 54.6875 \nL 18.40625 54.6875 \nL 18.40625 0 \nL 9.421875 0 \nz\nM 9.421875 75.984375 \nL 18.40625 75.984375 \nL 18.40625 64.59375 \nL 9.421875 64.59375 \nz\n\" id=\"DejaVuSans-105\"/>\n      </defs>\n      <use xlink:href=\"#DejaVuSans-116\"/>\n      <use x=\"39.208984\" xlink:href=\"#DejaVuSans-114\"/>\n      <use x=\"80.322266\" xlink:href=\"#DejaVuSans-97\"/>\n      <use x=\"141.601562\" xlink:href=\"#DejaVuSans-105\"/>\n      <use x=\"169.384766\" xlink:href=\"#DejaVuSans-110\"/>\n     </g>\n    </g>\n    <g id=\"line2d_35\">\n     <path d=\"M 52.78125 50.094687 \nL 72.78125 50.094687 \n\" style=\"fill:none;stroke:#ff7f0e;stroke-linecap:square;stroke-width:1.5;\"/>\n    </g>\n    <g id=\"line2d_36\"/>\n    <g id=\"text_17\">\n     <!-- val -->\n     <g transform=\"translate(80.78125 53.594687)scale(0.1 -0.1)\">\n      <defs>\n       <path d=\"M 2.984375 54.6875 \nL 12.5 54.6875 \nL 29.59375 8.796875 \nL 46.6875 54.6875 \nL 56.203125 54.6875 \nL 35.6875 0 \nL 23.484375 0 \nz\n\" id=\"DejaVuSans-118\"/>\n      </defs>\n      <use xlink:href=\"#DejaVuSans-118\"/>\n      <use x=\"59.179688\" xlink:href=\"#DejaVuSans-97\"/>\n      <use x=\"120.458984\" xlink:href=\"#DejaVuSans-108\"/>\n     </g>\n    </g>\n   </g>\n  </g>\n </g>\n <defs>\n  <clipPath id=\"pc5659ac8a2\">\n   <rect height=\"217.44\" width=\"334.8\" x=\"43.78125\" y=\"22.318125\"/>\n  </clipPath>\n </defs>\n</svg>\n",
      "image/png": "[encoded data removed]"
     },
     "metadata": {
      "needs_background": "light"
     }
    }
   ],
   "source": [
    "for i,history in enumerate(hists.values()):\n",
    "  plt.plot(history.history['mean_squared_error'], c='tab:blue')\n",
    "  plt.plot(history.history['val_mean_squared_error'], c='tab:orange')\n",
    "  \n",
    "plt.title('model mean_squared_error')\n",
    "plt.ylabel('MSE')\n",
    "plt.xlabel('epoch')\n",
    "plt.legend(['train', 'val'], loc='upper left')\n",
    "plt.show()"
   ]
  },
  {
   "cell_type": "code",
   "execution_count": 11,
   "metadata": {
    "colab": {
     "base_uri": "https://localhost:8080/",
     "height": 295
    },
    "colab_type": "code",
    "id": "j4wSFPMHSq9i",
    "outputId": "55197f4c-fc1d-4889-ffe9-f566eb4d6cc8",
    "scrolled": false
   },
   "outputs": [
    {
     "output_type": "display_data",
     "data": {
      "text/plain": "<Figure size 432x288 with 1 Axes>",
      "image/svg+xml": "<?xml version=\"1.0\" encoding=\"utf-8\" standalone=\"no\"?>\n<!DOCTYPE svg PUBLIC \"-//W3C//DTD SVG 1.1//EN\"\n  \"http://www.w3.org/Graphics/SVG/1.1/DTD/svg11.dtd\">\n<!-- Created with matplotlib (https://matplotlib.org/) -->\n<svg height=\"277.314375pt\" version=\"1.1\" viewBox=\"0 0 386.499758 277.314375\" width=\"386.499758pt\" xmlns=\"http://www.w3.org/2000/svg\" xmlns:xlink=\"http://www.w3.org/1999/xlink\">\n <metadata>\n  <rdf:RDF xmlns:cc=\"http://creativecommons.org/ns#\" xmlns:dc=\"http://purl.org/dc/elements/1.1/\" xmlns:rdf=\"http://www.w3.org/1999/02/22-rdf-syntax-ns#\">\n   <cc:Work>\n    <dc:type rdf:resource=\"http://purl.org/dc/dcmitype/StillImage\"/>\n    <dc:date>2020-12-17T16:33:57.975703</dc:date>\n    <dc:format>image/svg+xml</dc:format>\n    <dc:creator>\n     <cc:Agent>\n      <dc:title>Matplotlib v3.3.3, https://matplotlib.org/</dc:title>\n     </cc:Agent>\n    </dc:creator>\n   </cc:Work>\n  </rdf:RDF>\n </metadata>\n <defs>\n  <style type=\"text/css\">*{stroke-linecap:butt;stroke-linejoin:round;}</style>\n </defs>\n <g id=\"figure_1\">\n  <g id=\"patch_1\">\n   <path d=\"M 0 277.314375 \nL 386.499758 277.314375 \nL 386.499758 0 \nL 0 0 \nz\n\" style=\"fill:none;\"/>\n  </g>\n  <g id=\"axes_1\">\n   <g id=\"patch_2\">\n    <path d=\"M 43.78125 239.758125 \nL 378.58125 239.758125 \nL 378.58125 22.318125 \nL 43.78125 22.318125 \nz\n\" style=\"fill:#ffffff;\"/>\n   </g>\n   <g id=\"matplotlib.axis_1\">\n    <g id=\"xtick_1\">\n     <g id=\"line2d_1\">\n      <defs>\n       <path d=\"M 0 0 \nL 0 3.5 \n\" id=\"mb0862e9f32\" style=\"stroke:#000000;stroke-width:0.8;\"/>\n      </defs>\n      <g>\n       <use style=\"stroke:#000000;stroke-width:0.8;\" x=\"58.999432\" xlink:href=\"#mb0862e9f32\" y=\"239.758125\"/>\n      </g>\n     </g>\n     <g id=\"text_1\">\n      <!-- 0 -->\n      <g transform=\"translate(55.818182 254.356562)scale(0.1 -0.1)\">\n       <defs>\n        <path d=\"M 31.78125 66.40625 \nQ 24.171875 66.40625 20.328125 58.90625 \nQ 16.5 51.421875 16.5 36.375 \nQ 16.5 21.390625 20.328125 13.890625 \nQ 24.171875 6.390625 31.78125 6.390625 \nQ 39.453125 6.390625 43.28125 13.890625 \nQ 47.125 21.390625 47.125 36.375 \nQ 47.125 51.421875 43.28125 58.90625 \nQ 39.453125 66.40625 31.78125 66.40625 \nz\nM 31.78125 74.21875 \nQ 44.046875 74.21875 50.515625 64.515625 \nQ 56.984375 54.828125 56.984375 36.375 \nQ 56.984375 17.96875 50.515625 8.265625 \nQ 44.046875 -1.421875 31.78125 -1.421875 \nQ 19.53125 -1.421875 13.0625 8.265625 \nQ 6.59375 17.96875 6.59375 36.375 \nQ 6.59375 54.828125 13.0625 64.515625 \nQ 19.53125 74.21875 31.78125 74.21875 \nz\n\" id=\"DejaVuSans-48\"/>\n       </defs>\n       <use xlink:href=\"#DejaVuSans-48\"/>\n      </g>\n     </g>\n    </g>\n    <g id=\"xtick_2\">\n     <g id=\"line2d_2\">\n      <g>\n       <use style=\"stroke:#000000;stroke-width:0.8;\" x=\"119.878247\" xlink:href=\"#mb0862e9f32\" y=\"239.758125\"/>\n      </g>\n     </g>\n     <g id=\"text_2\">\n      <!-- 2000 -->\n      <g transform=\"translate(107.153247 254.356562)scale(0.1 -0.1)\">\n       <defs>\n        <path d=\"M 19.1875 8.296875 \nL 53.609375 8.296875 \nL 53.609375 0 \nL 7.328125 0 \nL 7.328125 8.296875 \nQ 12.9375 14.109375 22.625 23.890625 \nQ 32.328125 33.6875 34.8125 36.53125 \nQ 39.546875 41.84375 41.421875 45.53125 \nQ 43.3125 49.21875 43.3125 52.78125 \nQ 43.3125 58.59375 39.234375 62.25 \nQ 35.15625 65.921875 28.609375 65.921875 \nQ 23.96875 65.921875 18.8125 64.3125 \nQ 13.671875 62.703125 7.8125 59.421875 \nL 7.8125 69.390625 \nQ 13.765625 71.78125 18.9375 73 \nQ 24.125 74.21875 28.421875 74.21875 \nQ 39.75 74.21875 46.484375 68.546875 \nQ 53.21875 62.890625 53.21875 53.421875 \nQ 53.21875 48.921875 51.53125 44.890625 \nQ 49.859375 40.875 45.40625 35.40625 \nQ 44.1875 33.984375 37.640625 27.21875 \nQ 31.109375 20.453125 19.1875 8.296875 \nz\n\" id=\"DejaVuSans-50\"/>\n       </defs>\n       <use xlink:href=\"#DejaVuSans-50\"/>\n       <use x=\"63.623047\" xlink:href=\"#DejaVuSans-48\"/>\n       <use x=\"127.246094\" xlink:href=\"#DejaVuSans-48\"/>\n       <use x=\"190.869141\" xlink:href=\"#DejaVuSans-48\"/>\n      </g>\n     </g>\n    </g>\n    <g id=\"xtick_3\">\n     <g id=\"line2d_3\">\n      <g>\n       <use style=\"stroke:#000000;stroke-width:0.8;\" x=\"180.757062\" xlink:href=\"#mb0862e9f32\" y=\"239.758125\"/>\n      </g>\n     </g>\n     <g id=\"text_3\">\n      <!-- 4000 -->\n      <g transform=\"translate(168.032062 254.356562)scale(0.1 -0.1)\">\n       <defs>\n        <path d=\"M 37.796875 64.3125 \nL 12.890625 25.390625 \nL 37.796875 25.390625 \nz\nM 35.203125 72.90625 \nL 47.609375 72.90625 \nL 47.609375 25.390625 \nL 58.015625 25.390625 \nL 58.015625 17.1875 \nL 47.609375 17.1875 \nL 47.609375 0 \nL 37.796875 0 \nL 37.796875 17.1875 \nL 4.890625 17.1875 \nL 4.890625 26.703125 \nz\n\" id=\"DejaVuSans-52\"/>\n       </defs>\n       <use xlink:href=\"#DejaVuSans-52\"/>\n       <use x=\"63.623047\" xlink:href=\"#DejaVuSans-48\"/>\n       <use x=\"127.246094\" xlink:href=\"#DejaVuSans-48\"/>\n       <use x=\"190.869141\" xlink:href=\"#DejaVuSans-48\"/>\n      </g>\n     </g>\n    </g>\n    <g id=\"xtick_4\">\n     <g id=\"line2d_4\">\n      <g>\n       <use style=\"stroke:#000000;stroke-width:0.8;\" x=\"241.635877\" xlink:href=\"#mb0862e9f32\" y=\"239.758125\"/>\n      </g>\n     </g>\n     <g id=\"text_4\">\n      <!-- 6000 -->\n      <g transform=\"translate(228.910877 254.356562)scale(0.1 -0.1)\">\n       <defs>\n        <path d=\"M 33.015625 40.375 \nQ 26.375 40.375 22.484375 35.828125 \nQ 18.609375 31.296875 18.609375 23.390625 \nQ 18.609375 15.53125 22.484375 10.953125 \nQ 26.375 6.390625 33.015625 6.390625 \nQ 39.65625 6.390625 43.53125 10.953125 \nQ 47.40625 15.53125 47.40625 23.390625 \nQ 47.40625 31.296875 43.53125 35.828125 \nQ 39.65625 40.375 33.015625 40.375 \nz\nM 52.59375 71.296875 \nL 52.59375 62.3125 \nQ 48.875 64.0625 45.09375 64.984375 \nQ 41.3125 65.921875 37.59375 65.921875 \nQ 27.828125 65.921875 22.671875 59.328125 \nQ 17.53125 52.734375 16.796875 39.40625 \nQ 19.671875 43.65625 24.015625 45.921875 \nQ 28.375 48.1875 33.59375 48.1875 \nQ 44.578125 48.1875 50.953125 41.515625 \nQ 57.328125 34.859375 57.328125 23.390625 \nQ 57.328125 12.15625 50.6875 5.359375 \nQ 44.046875 -1.421875 33.015625 -1.421875 \nQ 20.359375 -1.421875 13.671875 8.265625 \nQ 6.984375 17.96875 6.984375 36.375 \nQ 6.984375 53.65625 15.1875 63.9375 \nQ 23.390625 74.21875 37.203125 74.21875 \nQ 40.921875 74.21875 44.703125 73.484375 \nQ 48.484375 72.75 52.59375 71.296875 \nz\n\" id=\"DejaVuSans-54\"/>\n       </defs>\n       <use xlink:href=\"#DejaVuSans-54\"/>\n       <use x=\"63.623047\" xlink:href=\"#DejaVuSans-48\"/>\n       <use x=\"127.246094\" xlink:href=\"#DejaVuSans-48\"/>\n       <use x=\"190.869141\" xlink:href=\"#DejaVuSans-48\"/>\n      </g>\n     </g>\n    </g>\n    <g id=\"xtick_5\">\n     <g id=\"line2d_5\">\n      <g>\n       <use style=\"stroke:#000000;stroke-width:0.8;\" x=\"302.514692\" xlink:href=\"#mb0862e9f32\" y=\"239.758125\"/>\n      </g>\n     </g>\n     <g id=\"text_5\">\n      <!-- 8000 -->\n      <g transform=\"translate(289.789692 254.356562)scale(0.1 -0.1)\">\n       <defs>\n        <path d=\"M 31.78125 34.625 \nQ 24.75 34.625 20.71875 30.859375 \nQ 16.703125 27.09375 16.703125 20.515625 \nQ 16.703125 13.921875 20.71875 10.15625 \nQ 24.75 6.390625 31.78125 6.390625 \nQ 38.8125 6.390625 42.859375 10.171875 \nQ 46.921875 13.96875 46.921875 20.515625 \nQ 46.921875 27.09375 42.890625 30.859375 \nQ 38.875 34.625 31.78125 34.625 \nz\nM 21.921875 38.8125 \nQ 15.578125 40.375 12.03125 44.71875 \nQ 8.5 49.078125 8.5 55.328125 \nQ 8.5 64.0625 14.71875 69.140625 \nQ 20.953125 74.21875 31.78125 74.21875 \nQ 42.671875 74.21875 48.875 69.140625 \nQ 55.078125 64.0625 55.078125 55.328125 \nQ 55.078125 49.078125 51.53125 44.71875 \nQ 48 40.375 41.703125 38.8125 \nQ 48.828125 37.15625 52.796875 32.3125 \nQ 56.78125 27.484375 56.78125 20.515625 \nQ 56.78125 9.90625 50.3125 4.234375 \nQ 43.84375 -1.421875 31.78125 -1.421875 \nQ 19.734375 -1.421875 13.25 4.234375 \nQ 6.78125 9.90625 6.78125 20.515625 \nQ 6.78125 27.484375 10.78125 32.3125 \nQ 14.796875 37.15625 21.921875 38.8125 \nz\nM 18.3125 54.390625 \nQ 18.3125 48.734375 21.84375 45.5625 \nQ 25.390625 42.390625 31.78125 42.390625 \nQ 38.140625 42.390625 41.71875 45.5625 \nQ 45.3125 48.734375 45.3125 54.390625 \nQ 45.3125 60.0625 41.71875 63.234375 \nQ 38.140625 66.40625 31.78125 66.40625 \nQ 25.390625 66.40625 21.84375 63.234375 \nQ 18.3125 60.0625 18.3125 54.390625 \nz\n\" id=\"DejaVuSans-56\"/>\n       </defs>\n       <use xlink:href=\"#DejaVuSans-56\"/>\n       <use x=\"63.623047\" xlink:href=\"#DejaVuSans-48\"/>\n       <use x=\"127.246094\" xlink:href=\"#DejaVuSans-48\"/>\n       <use x=\"190.869141\" xlink:href=\"#DejaVuSans-48\"/>\n      </g>\n     </g>\n    </g>\n    <g id=\"xtick_6\">\n     <g id=\"line2d_6\">\n      <g>\n       <use style=\"stroke:#000000;stroke-width:0.8;\" x=\"363.393508\" xlink:href=\"#mb0862e9f32\" y=\"239.758125\"/>\n      </g>\n     </g>\n     <g id=\"text_6\">\n      <!-- 10000 -->\n      <g transform=\"translate(347.487258 254.356562)scale(0.1 -0.1)\">\n       <defs>\n        <path d=\"M 12.40625 8.296875 \nL 28.515625 8.296875 \nL 28.515625 63.921875 \nL 10.984375 60.40625 \nL 10.984375 69.390625 \nL 28.421875 72.90625 \nL 38.28125 72.90625 \nL 38.28125 8.296875 \nL 54.390625 8.296875 \nL 54.390625 0 \nL 12.40625 0 \nz\n\" id=\"DejaVuSans-49\"/>\n       </defs>\n       <use xlink:href=\"#DejaVuSans-49\"/>\n       <use x=\"63.623047\" xlink:href=\"#DejaVuSans-48\"/>\n       <use x=\"127.246094\" xlink:href=\"#DejaVuSans-48\"/>\n       <use x=\"190.869141\" xlink:href=\"#DejaVuSans-48\"/>\n       <use x=\"254.492188\" xlink:href=\"#DejaVuSans-48\"/>\n      </g>\n     </g>\n    </g>\n    <g id=\"text_7\">\n     <!-- epoch -->\n     <g transform=\"translate(195.953125 268.034687)scale(0.1 -0.1)\">\n      <defs>\n       <path d=\"M 56.203125 29.59375 \nL 56.203125 25.203125 \nL 14.890625 25.203125 \nQ 15.484375 15.921875 20.484375 11.0625 \nQ 25.484375 6.203125 34.421875 6.203125 \nQ 39.59375 6.203125 44.453125 7.46875 \nQ 49.3125 8.734375 54.109375 11.28125 \nL 54.109375 2.78125 \nQ 49.265625 0.734375 44.1875 -0.34375 \nQ 39.109375 -1.421875 33.890625 -1.421875 \nQ 20.796875 -1.421875 13.15625 6.1875 \nQ 5.515625 13.8125 5.515625 26.8125 \nQ 5.515625 40.234375 12.765625 48.109375 \nQ 20.015625 56 32.328125 56 \nQ 43.359375 56 49.78125 48.890625 \nQ 56.203125 41.796875 56.203125 29.59375 \nz\nM 47.21875 32.234375 \nQ 47.125 39.59375 43.09375 43.984375 \nQ 39.0625 48.390625 32.421875 48.390625 \nQ 24.90625 48.390625 20.390625 44.140625 \nQ 15.875 39.890625 15.1875 32.171875 \nz\n\" id=\"DejaVuSans-101\"/>\n       <path d=\"M 18.109375 8.203125 \nL 18.109375 -20.796875 \nL 9.078125 -20.796875 \nL 9.078125 54.6875 \nL 18.109375 54.6875 \nL 18.109375 46.390625 \nQ 20.953125 51.265625 25.265625 53.625 \nQ 29.59375 56 35.59375 56 \nQ 45.5625 56 51.78125 48.09375 \nQ 58.015625 40.1875 58.015625 27.296875 \nQ 58.015625 14.40625 51.78125 6.484375 \nQ 45.5625 -1.421875 35.59375 -1.421875 \nQ 29.59375 -1.421875 25.265625 0.953125 \nQ 20.953125 3.328125 18.109375 8.203125 \nz\nM 48.6875 27.296875 \nQ 48.6875 37.203125 44.609375 42.84375 \nQ 40.53125 48.484375 33.40625 48.484375 \nQ 26.265625 48.484375 22.1875 42.84375 \nQ 18.109375 37.203125 18.109375 27.296875 \nQ 18.109375 17.390625 22.1875 11.75 \nQ 26.265625 6.109375 33.40625 6.109375 \nQ 40.53125 6.109375 44.609375 11.75 \nQ 48.6875 17.390625 48.6875 27.296875 \nz\n\" id=\"DejaVuSans-112\"/>\n       <path d=\"M 30.609375 48.390625 \nQ 23.390625 48.390625 19.1875 42.75 \nQ 14.984375 37.109375 14.984375 27.296875 \nQ 14.984375 17.484375 19.15625 11.84375 \nQ 23.34375 6.203125 30.609375 6.203125 \nQ 37.796875 6.203125 41.984375 11.859375 \nQ 46.1875 17.53125 46.1875 27.296875 \nQ 46.1875 37.015625 41.984375 42.703125 \nQ 37.796875 48.390625 30.609375 48.390625 \nz\nM 30.609375 56 \nQ 42.328125 56 49.015625 48.375 \nQ 55.71875 40.765625 55.71875 27.296875 \nQ 55.71875 13.875 49.015625 6.21875 \nQ 42.328125 -1.421875 30.609375 -1.421875 \nQ 18.84375 -1.421875 12.171875 6.21875 \nQ 5.515625 13.875 5.515625 27.296875 \nQ 5.515625 40.765625 12.171875 48.375 \nQ 18.84375 56 30.609375 56 \nz\n\" id=\"DejaVuSans-111\"/>\n       <path d=\"M 48.78125 52.59375 \nL 48.78125 44.1875 \nQ 44.96875 46.296875 41.140625 47.34375 \nQ 37.3125 48.390625 33.40625 48.390625 \nQ 24.65625 48.390625 19.8125 42.84375 \nQ 14.984375 37.3125 14.984375 27.296875 \nQ 14.984375 17.28125 19.8125 11.734375 \nQ 24.65625 6.203125 33.40625 6.203125 \nQ 37.3125 6.203125 41.140625 7.25 \nQ 44.96875 8.296875 48.78125 10.40625 \nL 48.78125 2.09375 \nQ 45.015625 0.34375 40.984375 -0.53125 \nQ 36.96875 -1.421875 32.421875 -1.421875 \nQ 20.0625 -1.421875 12.78125 6.34375 \nQ 5.515625 14.109375 5.515625 27.296875 \nQ 5.515625 40.671875 12.859375 48.328125 \nQ 20.21875 56 33.015625 56 \nQ 37.15625 56 41.109375 55.140625 \nQ 45.0625 54.296875 48.78125 52.59375 \nz\n\" id=\"DejaVuSans-99\"/>\n       <path d=\"M 54.890625 33.015625 \nL 54.890625 0 \nL 45.90625 0 \nL 45.90625 32.71875 \nQ 45.90625 40.484375 42.875 44.328125 \nQ 39.84375 48.1875 33.796875 48.1875 \nQ 26.515625 48.1875 22.3125 43.546875 \nQ 18.109375 38.921875 18.109375 30.90625 \nL 18.109375 0 \nL 9.078125 0 \nL 9.078125 75.984375 \nL 18.109375 75.984375 \nL 18.109375 46.1875 \nQ 21.34375 51.125 25.703125 53.5625 \nQ 30.078125 56 35.796875 56 \nQ 45.21875 56 50.046875 50.171875 \nQ 54.890625 44.34375 54.890625 33.015625 \nz\n\" id=\"DejaVuSans-104\"/>\n      </defs>\n      <use xlink:href=\"#DejaVuSans-101\"/>\n      <use x=\"61.523438\" xlink:href=\"#DejaVuSans-112\"/>\n      <use x=\"125\" xlink:href=\"#DejaVuSans-111\"/>\n      <use x=\"186.181641\" xlink:href=\"#DejaVuSans-99\"/>\n      <use x=\"241.162109\" xlink:href=\"#DejaVuSans-104\"/>\n     </g>\n    </g>\n   </g>\n   <g id=\"matplotlib.axis_2\">\n    <g id=\"ytick_1\">\n     <g id=\"line2d_7\">\n      <defs>\n       <path d=\"M 0 0 \nL -3.5 0 \n\" id=\"md101bda465\" style=\"stroke:#000000;stroke-width:0.8;\"/>\n      </defs>\n      <g>\n       <use style=\"stroke:#000000;stroke-width:0.8;\" x=\"43.78125\" xlink:href=\"#md101bda465\" y=\"229.874489\"/>\n      </g>\n     </g>\n     <g id=\"text_8\">\n      <!-- 0.0 -->\n      <g transform=\"translate(20.878125 233.673707)scale(0.1 -0.1)\">\n       <defs>\n        <path d=\"M 10.6875 12.40625 \nL 21 12.40625 \nL 21 0 \nL 10.6875 0 \nz\n\" id=\"DejaVuSans-46\"/>\n       </defs>\n       <use xlink:href=\"#DejaVuSans-48\"/>\n       <use x=\"63.623047\" xlink:href=\"#DejaVuSans-46\"/>\n       <use x=\"95.410156\" xlink:href=\"#DejaVuSans-48\"/>\n      </g>\n     </g>\n    </g>\n    <g id=\"ytick_2\">\n     <g id=\"line2d_8\">\n      <g>\n       <use style=\"stroke:#000000;stroke-width:0.8;\" x=\"43.78125\" xlink:href=\"#md101bda465\" y=\"190.339943\"/>\n      </g>\n     </g>\n     <g id=\"text_9\">\n      <!-- 0.2 -->\n      <g transform=\"translate(20.878125 194.139162)scale(0.1 -0.1)\">\n       <use xlink:href=\"#DejaVuSans-48\"/>\n       <use x=\"63.623047\" xlink:href=\"#DejaVuSans-46\"/>\n       <use x=\"95.410156\" xlink:href=\"#DejaVuSans-50\"/>\n      </g>\n     </g>\n    </g>\n    <g id=\"ytick_3\">\n     <g id=\"line2d_9\">\n      <g>\n       <use style=\"stroke:#000000;stroke-width:0.8;\" x=\"43.78125\" xlink:href=\"#md101bda465\" y=\"150.805398\"/>\n      </g>\n     </g>\n     <g id=\"text_10\">\n      <!-- 0.4 -->\n      <g transform=\"translate(20.878125 154.604616)scale(0.1 -0.1)\">\n       <use xlink:href=\"#DejaVuSans-48\"/>\n       <use x=\"63.623047\" xlink:href=\"#DejaVuSans-46\"/>\n       <use x=\"95.410156\" xlink:href=\"#DejaVuSans-52\"/>\n      </g>\n     </g>\n    </g>\n    <g id=\"ytick_4\">\n     <g id=\"line2d_10\">\n      <g>\n       <use style=\"stroke:#000000;stroke-width:0.8;\" x=\"43.78125\" xlink:href=\"#md101bda465\" y=\"111.270852\"/>\n      </g>\n     </g>\n     <g id=\"text_11\">\n      <!-- 0.6 -->\n      <g transform=\"translate(20.878125 115.070071)scale(0.1 -0.1)\">\n       <use xlink:href=\"#DejaVuSans-48\"/>\n       <use x=\"63.623047\" xlink:href=\"#DejaVuSans-46\"/>\n       <use x=\"95.410156\" xlink:href=\"#DejaVuSans-54\"/>\n      </g>\n     </g>\n    </g>\n    <g id=\"ytick_5\">\n     <g id=\"line2d_11\">\n      <g>\n       <use style=\"stroke:#000000;stroke-width:0.8;\" x=\"43.78125\" xlink:href=\"#md101bda465\" y=\"71.736307\"/>\n      </g>\n     </g>\n     <g id=\"text_12\">\n      <!-- 0.8 -->\n      <g transform=\"translate(20.878125 75.535526)scale(0.1 -0.1)\">\n       <use xlink:href=\"#DejaVuSans-48\"/>\n       <use x=\"63.623047\" xlink:href=\"#DejaVuSans-46\"/>\n       <use x=\"95.410156\" xlink:href=\"#DejaVuSans-56\"/>\n      </g>\n     </g>\n    </g>\n    <g id=\"ytick_6\">\n     <g id=\"line2d_12\">\n      <g>\n       <use style=\"stroke:#000000;stroke-width:0.8;\" x=\"43.78125\" xlink:href=\"#md101bda465\" y=\"32.201761\"/>\n      </g>\n     </g>\n     <g id=\"text_13\">\n      <!-- 1.0 -->\n      <g transform=\"translate(20.878125 36.00098)scale(0.1 -0.1)\">\n       <use xlink:href=\"#DejaVuSans-49\"/>\n       <use x=\"63.623047\" xlink:href=\"#DejaVuSans-46\"/>\n       <use x=\"95.410156\" xlink:href=\"#DejaVuSans-48\"/>\n      </g>\n     </g>\n    </g>\n    <g id=\"text_14\">\n     <!-- MSE -->\n     <g transform=\"translate(14.798438 141.685781)rotate(-90)scale(0.1 -0.1)\">\n      <defs>\n       <path d=\"M 9.8125 72.90625 \nL 24.515625 72.90625 \nL 43.109375 23.296875 \nL 61.8125 72.90625 \nL 76.515625 72.90625 \nL 76.515625 0 \nL 66.890625 0 \nL 66.890625 64.015625 \nL 48.09375 14.015625 \nL 38.1875 14.015625 \nL 19.390625 64.015625 \nL 19.390625 0 \nL 9.8125 0 \nz\n\" id=\"DejaVuSans-77\"/>\n       <path d=\"M 53.515625 70.515625 \nL 53.515625 60.890625 \nQ 47.90625 63.578125 42.921875 64.890625 \nQ 37.9375 66.21875 33.296875 66.21875 \nQ 25.25 66.21875 20.875 63.09375 \nQ 16.5 59.96875 16.5 54.203125 \nQ 16.5 49.359375 19.40625 46.890625 \nQ 22.3125 44.4375 30.421875 42.921875 \nL 36.375 41.703125 \nQ 47.40625 39.59375 52.65625 34.296875 \nQ 57.90625 29 57.90625 20.125 \nQ 57.90625 9.515625 50.796875 4.046875 \nQ 43.703125 -1.421875 29.984375 -1.421875 \nQ 24.8125 -1.421875 18.96875 -0.25 \nQ 13.140625 0.921875 6.890625 3.21875 \nL 6.890625 13.375 \nQ 12.890625 10.015625 18.65625 8.296875 \nQ 24.421875 6.59375 29.984375 6.59375 \nQ 38.421875 6.59375 43.015625 9.90625 \nQ 47.609375 13.234375 47.609375 19.390625 \nQ 47.609375 24.75 44.3125 27.78125 \nQ 41.015625 30.8125 33.5 32.328125 \nL 27.484375 33.5 \nQ 16.453125 35.6875 11.515625 40.375 \nQ 6.59375 45.0625 6.59375 53.421875 \nQ 6.59375 63.09375 13.40625 68.65625 \nQ 20.21875 74.21875 32.171875 74.21875 \nQ 37.3125 74.21875 42.625 73.28125 \nQ 47.953125 72.359375 53.515625 70.515625 \nz\n\" id=\"DejaVuSans-83\"/>\n       <path d=\"M 9.8125 72.90625 \nL 55.90625 72.90625 \nL 55.90625 64.59375 \nL 19.671875 64.59375 \nL 19.671875 43.015625 \nL 54.390625 43.015625 \nL 54.390625 34.71875 \nL 19.671875 34.71875 \nL 19.671875 8.296875 \nL 56.78125 8.296875 \nL 56.78125 0 \nL 9.8125 0 \nz\n\" id=\"DejaVuSans-69\"/>\n      </defs>\n      <use xlink:href=\"#DejaVuSans-77\"/>\n      <use x=\"86.279297\" xlink:href=\"#DejaVuSans-83\"/>\n      <use x=\"149.755859\" xlink:href=\"#DejaVuSans-69\"/>\n     </g>\n    </g>\n   </g>\n   <g id=\"line2d_13\">\n    <path clip-path=\"url(#pa5118f1b82)\" d=\"M 58.999432 120.056302 \nL 64.661162 120.056302 \nL 64.782919 98.092667 \nL 65.178632 98.092667 \nL 65.300389 76.129031 \nL 68.618285 76.129031 \nL 68.740042 54.165396 \nL 70.231573 54.165396 \nL 70.353331 32.201761 \nL 363.363068 32.201761 \nL 363.363068 32.201761 \n\" style=\"fill:none;stroke:#1f77b4;stroke-linecap:square;stroke-width:1.5;\"/>\n   </g>\n   <g id=\"line2d_14\">\n    <path clip-path=\"url(#pa5118f1b82)\" d=\"M 58.999432 32.201761 \nL 64.478525 32.201761 \nL 64.600283 229.874489 \nL 363.363068 229.874489 \nL 363.363068 229.874489 \n\" style=\"fill:none;stroke:#ff7f0e;stroke-linecap:square;stroke-width:1.5;\"/>\n   </g>\n   <g id=\"line2d_15\">\n    <path clip-path=\"url(#pa5118f1b82)\" d=\"M 58.999432 185.947216 \nL 59.516902 185.947216 \nL 59.638659 163.983578 \nL 60.186569 163.983578 \nL 60.308326 142.019943 \nL 61.404145 142.019943 \nL 61.525903 120.056302 \nL 62.499964 120.056302 \nL 62.621721 98.092667 \nL 63.260949 98.092667 \nL 63.382707 76.129031 \nL 63.808858 76.129031 \nL 63.930616 54.165396 \nL 64.204571 54.165396 \nL 64.326328 32.201761 \nL 363.363068 32.201761 \nL 363.363068 32.201761 \n\" style=\"fill:none;stroke:#1f77b4;stroke-linecap:square;stroke-width:1.5;\"/>\n   </g>\n   <g id=\"line2d_16\">\n    <path clip-path=\"url(#pa5118f1b82)\" d=\"M 58.999432 229.874489 \nL 73.671226 229.874489 \nL 73.792984 32.201761 \nL 363.363068 32.201761 \nL 363.363068 32.201761 \n\" style=\"fill:none;stroke:#ff7f0e;stroke-linecap:square;stroke-width:1.5;\"/>\n   </g>\n   <g id=\"line2d_17\">\n    <path clip-path=\"url(#pa5118f1b82)\" d=\"M 58.999432 163.983578 \nL 63.565343 163.983578 \nL 63.687101 142.019943 \nL 64.23501 142.019943 \nL 64.356768 120.056302 \nL 65.452586 120.056302 \nL 65.574344 98.092667 \nL 65.604783 98.092667 \nL 65.726541 76.129031 \nL 66.944117 76.129031 \nL 67.065875 54.165396 \nL 67.187632 54.165396 \nL 67.30939 32.201761 \nL 363.363068 32.201761 \nL 363.363068 32.201761 \n\" style=\"fill:none;stroke:#1f77b4;stroke-linecap:square;stroke-width:1.5;\"/>\n   </g>\n   <g id=\"line2d_18\">\n    <path clip-path=\"url(#pa5118f1b82)\" d=\"M 58.999432 32.201761 \nL 363.363068 32.201761 \nL 363.363068 32.201761 \n\" style=\"fill:none;stroke:#ff7f0e;stroke-linecap:square;stroke-width:1.5;\"/>\n   </g>\n   <g id=\"line2d_19\">\n    <path clip-path=\"url(#pa5118f1b82)\" d=\"M 58.999432 98.092667 \nL 63.047873 98.092667 \nL 63.169631 76.129031 \nL 64.052373 76.129031 \nL 64.174131 54.165396 \nL 64.569843 54.165396 \nL 64.691601 32.201761 \nL 363.363068 32.201761 \nL 363.363068 32.201761 \n\" style=\"fill:none;stroke:#1f77b4;stroke-linecap:square;stroke-width:1.5;\"/>\n   </g>\n   <g id=\"line2d_20\">\n    <path clip-path=\"url(#pa5118f1b82)\" d=\"M 58.999432 32.201761 \nL 363.363068 32.201761 \nL 363.363068 32.201761 \n\" style=\"fill:none;stroke:#ff7f0e;stroke-linecap:square;stroke-width:1.5;\"/>\n   </g>\n   <g id=\"line2d_21\">\n    <path clip-path=\"url(#pa5118f1b82)\" d=\"M 58.999432 120.056302 \nL 59.973493 120.056302 \nL 60.09525 98.092667 \nL 62.286888 98.092667 \nL 62.408645 76.129031 \nL 63.291388 76.129031 \nL 63.413146 54.165396 \nL 65.026435 54.165396 \nL 65.148192 32.201761 \nL 363.363068 32.201761 \nL 363.363068 32.201761 \n\" style=\"fill:none;stroke:#1f77b4;stroke-linecap:square;stroke-width:1.5;\"/>\n   </g>\n   <g id=\"line2d_22\">\n    <path clip-path=\"url(#pa5118f1b82)\" d=\"M 58.999432 32.201761 \nL 363.363068 32.201761 \nL 363.363068 32.201761 \n\" style=\"fill:none;stroke:#ff7f0e;stroke-linecap:square;stroke-width:1.5;\"/>\n   </g>\n   <g id=\"line2d_23\">\n    <path clip-path=\"url(#pa5118f1b82)\" d=\"M 58.999432 142.019943 \nL 61.556342 142.019943 \nL 61.6781 120.056302 \nL 62.378206 120.056302 \nL 62.499964 98.092667 \nL 62.6826 98.092667 \nL 62.804358 76.129031 \nL 62.926115 98.092667 \nL 63.71754 98.092667 \nL 63.839298 120.056302 \nL 64.204571 120.056302 \nL 64.326328 98.092667 \nL 65.696101 98.092667 \nL 65.817859 76.129031 \nL 67.492027 76.129031 \nL 67.613784 54.165396 \nL 68.131254 54.165396 \nL 68.253012 32.201761 \nL 363.363068 32.201761 \nL 363.363068 32.201761 \n\" style=\"fill:none;stroke:#1f77b4;stroke-linecap:square;stroke-width:1.5;\"/>\n   </g>\n   <g id=\"line2d_24\">\n    <path clip-path=\"url(#pa5118f1b82)\" d=\"M 58.999432 32.201761 \nL 363.363068 32.201761 \nL 363.363068 32.201761 \n\" style=\"fill:none;stroke:#ff7f0e;stroke-linecap:square;stroke-width:1.5;\"/>\n   </g>\n   <g id=\"line2d_25\">\n    <path clip-path=\"url(#pa5118f1b82)\" d=\"M 58.999432 142.019943 \nL 61.069312 142.019943 \nL 61.191069 120.056302 \nL 67.30939 120.056302 \nL 67.461587 76.129031 \nL 70.41421 76.129031 \nL 70.535967 54.165396 \nL 73.305953 54.165396 \nL 73.427711 32.201761 \nL 363.363068 32.201761 \nL 363.363068 32.201761 \n\" style=\"fill:none;stroke:#1f77b4;stroke-linecap:square;stroke-width:1.5;\"/>\n   </g>\n   <g id=\"line2d_26\">\n    <path clip-path=\"url(#pa5118f1b82)\" d=\"M 58.999432 32.201761 \nL 80.033062 32.201761 \nL 80.15482 229.874489 \nL 157.257839 229.874489 \nL 157.379597 32.201761 \nL 363.363068 32.201761 \nL 363.363068 32.201761 \n\" style=\"fill:none;stroke:#ff7f0e;stroke-linecap:square;stroke-width:1.5;\"/>\n   </g>\n   <g id=\"line2d_27\">\n    <path clip-path=\"url(#pa5118f1b82)\" d=\"M 58.999432 120.056302 \nL 66.122253 120.056302 \nL 66.244011 98.092667 \nL 66.944117 98.092667 \nL 67.065875 76.129031 \nL 68.770482 76.129031 \nL 68.892239 54.165396 \nL 72.210135 54.165396 \nL 72.331892 32.201761 \nL 363.363068 32.201761 \nL 363.363068 32.201761 \n\" style=\"fill:none;stroke:#1f77b4;stroke-linecap:square;stroke-width:1.5;\"/>\n   </g>\n   <g id=\"line2d_28\">\n    <path clip-path=\"url(#pa5118f1b82)\" d=\"M 58.999432 229.874489 \nL 66.700602 229.874489 \nL 66.82236 32.201761 \nL 363.363068 32.201761 \nL 363.363068 32.201761 \n\" style=\"fill:none;stroke:#ff7f0e;stroke-linecap:square;stroke-width:1.5;\"/>\n   </g>\n   <g id=\"line2d_29\">\n    <path clip-path=\"url(#pa5118f1b82)\" d=\"M 58.999432 207.910852 \nL 59.09075 207.910852 \nL 59.212508 185.947216 \nL 59.821296 185.947216 \nL 59.943053 163.983578 \nL 60.064811 163.983578 \nL 60.186569 142.019943 \nL 62.347767 142.019943 \nL 62.469524 120.056302 \nL 62.804358 120.056302 \nL 62.926115 98.092667 \nL 63.534904 98.092667 \nL 63.656661 76.129031 \nL 64.174131 76.129031 \nL 64.295889 54.165396 \nL 67.887739 54.165396 \nL 68.009496 32.201761 \nL 363.363068 32.201761 \nL 363.363068 32.201761 \n\" style=\"fill:none;stroke:#1f77b4;stroke-linecap:square;stroke-width:1.5;\"/>\n   </g>\n   <g id=\"line2d_30\">\n    <path clip-path=\"url(#pa5118f1b82)\" d=\"M 58.999432 229.874489 \nL 363.363068 229.874489 \nL 363.363068 229.874489 \n\" style=\"fill:none;stroke:#ff7f0e;stroke-linecap:square;stroke-width:1.5;\"/>\n   </g>\n   <g id=\"line2d_31\">\n    <path clip-path=\"url(#pa5118f1b82)\" d=\"M 58.999432 142.019943 \nL 63.20007 142.019943 \nL 63.321828 163.983578 \nL 64.417646 163.983578 \nL 64.539404 185.947216 \nL 64.600283 185.947216 \nL 64.72204 163.983578 \nL 64.843798 163.983578 \nL 64.965556 142.019943 \nL 66.578844 142.019943 \nL 66.700602 120.056302 \nL 69.531467 120.056302 \nL 69.653224 98.092667 \nL 70.41421 98.092667 \nL 70.535967 76.129031 \nL 72.271014 76.129031 \nL 72.392771 54.165396 \nL 72.575408 54.165396 \nL 72.697165 32.201761 \nL 363.363068 32.201761 \nL 363.363068 32.201761 \n\" style=\"fill:none;stroke:#1f77b4;stroke-linecap:square;stroke-width:1.5;\"/>\n   </g>\n   <g id=\"line2d_32\">\n    <path clip-path=\"url(#pa5118f1b82)\" d=\"M 58.999432 32.201761 \nL 363.363068 32.201761 \nL 363.363068 32.201761 \n\" style=\"fill:none;stroke:#ff7f0e;stroke-linecap:square;stroke-width:1.5;\"/>\n   </g>\n   <g id=\"patch_3\">\n    <path d=\"M 43.78125 239.758125 \nL 43.78125 22.318125 \n\" style=\"fill:none;stroke:#000000;stroke-linecap:square;stroke-linejoin:miter;stroke-width:0.8;\"/>\n   </g>\n   <g id=\"patch_4\">\n    <path d=\"M 378.58125 239.758125 \nL 378.58125 22.318125 \n\" style=\"fill:none;stroke:#000000;stroke-linecap:square;stroke-linejoin:miter;stroke-width:0.8;\"/>\n   </g>\n   <g id=\"patch_5\">\n    <path d=\"M 43.78125 239.758125 \nL 378.58125 239.758125 \n\" style=\"fill:none;stroke:#000000;stroke-linecap:square;stroke-linejoin:miter;stroke-width:0.8;\"/>\n   </g>\n   <g id=\"patch_6\">\n    <path d=\"M 43.78125 22.318125 \nL 378.58125 22.318125 \n\" style=\"fill:none;stroke:#000000;stroke-linecap:square;stroke-linejoin:miter;stroke-width:0.8;\"/>\n   </g>\n   <g id=\"text_15\">\n    <!-- model binary_accuracy -->\n    <g transform=\"translate(141.546562 16.318125)scale(0.12 -0.12)\">\n     <defs>\n      <path d=\"M 52 44.1875 \nQ 55.375 50.25 60.0625 53.125 \nQ 64.75 56 71.09375 56 \nQ 79.640625 56 84.28125 50.015625 \nQ 88.921875 44.046875 88.921875 33.015625 \nL 88.921875 0 \nL 79.890625 0 \nL 79.890625 32.71875 \nQ 79.890625 40.578125 77.09375 44.375 \nQ 74.3125 48.1875 68.609375 48.1875 \nQ 61.625 48.1875 57.5625 43.546875 \nQ 53.515625 38.921875 53.515625 30.90625 \nL 53.515625 0 \nL 44.484375 0 \nL 44.484375 32.71875 \nQ 44.484375 40.625 41.703125 44.40625 \nQ 38.921875 48.1875 33.109375 48.1875 \nQ 26.21875 48.1875 22.15625 43.53125 \nQ 18.109375 38.875 18.109375 30.90625 \nL 18.109375 0 \nL 9.078125 0 \nL 9.078125 54.6875 \nL 18.109375 54.6875 \nL 18.109375 46.1875 \nQ 21.1875 51.21875 25.484375 53.609375 \nQ 29.78125 56 35.6875 56 \nQ 41.65625 56 45.828125 52.96875 \nQ 50 49.953125 52 44.1875 \nz\n\" id=\"DejaVuSans-109\"/>\n      <path d=\"M 45.40625 46.390625 \nL 45.40625 75.984375 \nL 54.390625 75.984375 \nL 54.390625 0 \nL 45.40625 0 \nL 45.40625 8.203125 \nQ 42.578125 3.328125 38.25 0.953125 \nQ 33.9375 -1.421875 27.875 -1.421875 \nQ 17.96875 -1.421875 11.734375 6.484375 \nQ 5.515625 14.40625 5.515625 27.296875 \nQ 5.515625 40.1875 11.734375 48.09375 \nQ 17.96875 56 27.875 56 \nQ 33.9375 56 38.25 53.625 \nQ 42.578125 51.265625 45.40625 46.390625 \nz\nM 14.796875 27.296875 \nQ 14.796875 17.390625 18.875 11.75 \nQ 22.953125 6.109375 30.078125 6.109375 \nQ 37.203125 6.109375 41.296875 11.75 \nQ 45.40625 17.390625 45.40625 27.296875 \nQ 45.40625 37.203125 41.296875 42.84375 \nQ 37.203125 48.484375 30.078125 48.484375 \nQ 22.953125 48.484375 18.875 42.84375 \nQ 14.796875 37.203125 14.796875 27.296875 \nz\n\" id=\"DejaVuSans-100\"/>\n      <path d=\"M 9.421875 75.984375 \nL 18.40625 75.984375 \nL 18.40625 0 \nL 9.421875 0 \nz\n\" id=\"DejaVuSans-108\"/>\n      <path id=\"DejaVuSans-32\"/>\n      <path d=\"M 48.6875 27.296875 \nQ 48.6875 37.203125 44.609375 42.84375 \nQ 40.53125 48.484375 33.40625 48.484375 \nQ 26.265625 48.484375 22.1875 42.84375 \nQ 18.109375 37.203125 18.109375 27.296875 \nQ 18.109375 17.390625 22.1875 11.75 \nQ 26.265625 6.109375 33.40625 6.109375 \nQ 40.53125 6.109375 44.609375 11.75 \nQ 48.6875 17.390625 48.6875 27.296875 \nz\nM 18.109375 46.390625 \nQ 20.953125 51.265625 25.265625 53.625 \nQ 29.59375 56 35.59375 56 \nQ 45.5625 56 51.78125 48.09375 \nQ 58.015625 40.1875 58.015625 27.296875 \nQ 58.015625 14.40625 51.78125 6.484375 \nQ 45.5625 -1.421875 35.59375 -1.421875 \nQ 29.59375 -1.421875 25.265625 0.953125 \nQ 20.953125 3.328125 18.109375 8.203125 \nL 18.109375 0 \nL 9.078125 0 \nL 9.078125 75.984375 \nL 18.109375 75.984375 \nz\n\" id=\"DejaVuSans-98\"/>\n      <path d=\"M 9.421875 54.6875 \nL 18.40625 54.6875 \nL 18.40625 0 \nL 9.421875 0 \nz\nM 9.421875 75.984375 \nL 18.40625 75.984375 \nL 18.40625 64.59375 \nL 9.421875 64.59375 \nz\n\" id=\"DejaVuSans-105\"/>\n      <path d=\"M 54.890625 33.015625 \nL 54.890625 0 \nL 45.90625 0 \nL 45.90625 32.71875 \nQ 45.90625 40.484375 42.875 44.328125 \nQ 39.84375 48.1875 33.796875 48.1875 \nQ 26.515625 48.1875 22.3125 43.546875 \nQ 18.109375 38.921875 18.109375 30.90625 \nL 18.109375 0 \nL 9.078125 0 \nL 9.078125 54.6875 \nL 18.109375 54.6875 \nL 18.109375 46.1875 \nQ 21.34375 51.125 25.703125 53.5625 \nQ 30.078125 56 35.796875 56 \nQ 45.21875 56 50.046875 50.171875 \nQ 54.890625 44.34375 54.890625 33.015625 \nz\n\" id=\"DejaVuSans-110\"/>\n      <path d=\"M 34.28125 27.484375 \nQ 23.390625 27.484375 19.1875 25 \nQ 14.984375 22.515625 14.984375 16.5 \nQ 14.984375 11.71875 18.140625 8.90625 \nQ 21.296875 6.109375 26.703125 6.109375 \nQ 34.1875 6.109375 38.703125 11.40625 \nQ 43.21875 16.703125 43.21875 25.484375 \nL 43.21875 27.484375 \nz\nM 52.203125 31.203125 \nL 52.203125 0 \nL 43.21875 0 \nL 43.21875 8.296875 \nQ 40.140625 3.328125 35.546875 0.953125 \nQ 30.953125 -1.421875 24.3125 -1.421875 \nQ 15.921875 -1.421875 10.953125 3.296875 \nQ 6 8.015625 6 15.921875 \nQ 6 25.140625 12.171875 29.828125 \nQ 18.359375 34.515625 30.609375 34.515625 \nL 43.21875 34.515625 \nL 43.21875 35.40625 \nQ 43.21875 41.609375 39.140625 45 \nQ 35.0625 48.390625 27.6875 48.390625 \nQ 23 48.390625 18.546875 47.265625 \nQ 14.109375 46.140625 10.015625 43.890625 \nL 10.015625 52.203125 \nQ 14.9375 54.109375 19.578125 55.046875 \nQ 24.21875 56 28.609375 56 \nQ 40.484375 56 46.34375 49.84375 \nQ 52.203125 43.703125 52.203125 31.203125 \nz\n\" id=\"DejaVuSans-97\"/>\n      <path d=\"M 41.109375 46.296875 \nQ 39.59375 47.171875 37.8125 47.578125 \nQ 36.03125 48 33.890625 48 \nQ 26.265625 48 22.1875 43.046875 \nQ 18.109375 38.09375 18.109375 28.8125 \nL 18.109375 0 \nL 9.078125 0 \nL 9.078125 54.6875 \nL 18.109375 54.6875 \nL 18.109375 46.1875 \nQ 20.953125 51.171875 25.484375 53.578125 \nQ 30.03125 56 36.53125 56 \nQ 37.453125 56 38.578125 55.875 \nQ 39.703125 55.765625 41.0625 55.515625 \nz\n\" id=\"DejaVuSans-114\"/>\n      <path d=\"M 32.171875 -5.078125 \nQ 28.375 -14.84375 24.75 -17.8125 \nQ 21.140625 -20.796875 15.09375 -20.796875 \nL 7.90625 -20.796875 \nL 7.90625 -13.28125 \nL 13.1875 -13.28125 \nQ 16.890625 -13.28125 18.9375 -11.515625 \nQ 21 -9.765625 23.484375 -3.21875 \nL 25.09375 0.875 \nL 2.984375 54.6875 \nL 12.5 54.6875 \nL 29.59375 11.921875 \nL 46.6875 54.6875 \nL 56.203125 54.6875 \nz\n\" id=\"DejaVuSans-121\"/>\n      <path d=\"M 50.984375 -16.609375 \nL 50.984375 -23.578125 \nL -0.984375 -23.578125 \nL -0.984375 -16.609375 \nz\n\" id=\"DejaVuSans-95\"/>\n      <path d=\"M 8.5 21.578125 \nL 8.5 54.6875 \nL 17.484375 54.6875 \nL 17.484375 21.921875 \nQ 17.484375 14.15625 20.5 10.265625 \nQ 23.53125 6.390625 29.59375 6.390625 \nQ 36.859375 6.390625 41.078125 11.03125 \nQ 45.3125 15.671875 45.3125 23.6875 \nL 45.3125 54.6875 \nL 54.296875 54.6875 \nL 54.296875 0 \nL 45.3125 0 \nL 45.3125 8.40625 \nQ 42.046875 3.421875 37.71875 1 \nQ 33.40625 -1.421875 27.6875 -1.421875 \nQ 18.265625 -1.421875 13.375 4.4375 \nQ 8.5 10.296875 8.5 21.578125 \nz\nM 31.109375 56 \nz\n\" id=\"DejaVuSans-117\"/>\n     </defs>\n     <use xlink:href=\"#DejaVuSans-109\"/>\n     <use x=\"97.412109\" xlink:href=\"#DejaVuSans-111\"/>\n     <use x=\"158.59375\" xlink:href=\"#DejaVuSans-100\"/>\n     <use x=\"222.070312\" xlink:href=\"#DejaVuSans-101\"/>\n     <use x=\"283.59375\" xlink:href=\"#DejaVuSans-108\"/>\n     <use x=\"311.376953\" xlink:href=\"#DejaVuSans-32\"/>\n     <use x=\"343.164062\" xlink:href=\"#DejaVuSans-98\"/>\n     <use x=\"406.640625\" xlink:href=\"#DejaVuSans-105\"/>\n     <use x=\"434.423828\" xlink:href=\"#DejaVuSans-110\"/>\n     <use x=\"497.802734\" xlink:href=\"#DejaVuSans-97\"/>\n     <use x=\"559.082031\" xlink:href=\"#DejaVuSans-114\"/>\n     <use x=\"600.195312\" xlink:href=\"#DejaVuSans-121\"/>\n     <use x=\"659.375\" xlink:href=\"#DejaVuSans-95\"/>\n     <use x=\"709.375\" xlink:href=\"#DejaVuSans-97\"/>\n     <use x=\"770.654297\" xlink:href=\"#DejaVuSans-99\"/>\n     <use x=\"825.634766\" xlink:href=\"#DejaVuSans-99\"/>\n     <use x=\"880.615234\" xlink:href=\"#DejaVuSans-117\"/>\n     <use x=\"943.994141\" xlink:href=\"#DejaVuSans-114\"/>\n     <use x=\"985.107422\" xlink:href=\"#DejaVuSans-97\"/>\n     <use x=\"1046.386719\" xlink:href=\"#DejaVuSans-99\"/>\n     <use x=\"1101.367188\" xlink:href=\"#DejaVuSans-121\"/>\n    </g>\n   </g>\n   <g id=\"legend_1\">\n    <g id=\"patch_7\">\n     <path d=\"M 50.78125 59.674375 \nL 106.05625 59.674375 \nQ 108.05625 59.674375 108.05625 57.674375 \nL 108.05625 29.318125 \nQ 108.05625 27.318125 106.05625 27.318125 \nL 50.78125 27.318125 \nQ 48.78125 27.318125 48.78125 29.318125 \nL 48.78125 57.674375 \nQ 48.78125 59.674375 50.78125 59.674375 \nz\n\" style=\"fill:#ffffff;opacity:0.8;stroke:#cccccc;stroke-linejoin:miter;\"/>\n    </g>\n    <g id=\"line2d_33\">\n     <path d=\"M 52.78125 35.416562 \nL 72.78125 35.416562 \n\" style=\"fill:none;stroke:#1f77b4;stroke-linecap:square;stroke-width:1.5;\"/>\n    </g>\n    <g id=\"line2d_34\"/>\n    <g id=\"text_16\">\n     <!-- train -->\n     <g transform=\"translate(80.78125 38.916562)scale(0.1 -0.1)\">\n      <defs>\n       <path d=\"M 18.3125 70.21875 \nL 18.3125 54.6875 \nL 36.8125 54.6875 \nL 36.8125 47.703125 \nL 18.3125 47.703125 \nL 18.3125 18.015625 \nQ 18.3125 11.328125 20.140625 9.421875 \nQ 21.96875 7.515625 27.59375 7.515625 \nL 36.8125 7.515625 \nL 36.8125 0 \nL 27.59375 0 \nQ 17.1875 0 13.234375 3.875 \nQ 9.28125 7.765625 9.28125 18.015625 \nL 9.28125 47.703125 \nL 2.6875 47.703125 \nL 2.6875 54.6875 \nL 9.28125 54.6875 \nL 9.28125 70.21875 \nz\n\" id=\"DejaVuSans-116\"/>\n      </defs>\n      <use xlink:href=\"#DejaVuSans-116\"/>\n      <use x=\"39.208984\" xlink:href=\"#DejaVuSans-114\"/>\n      <use x=\"80.322266\" xlink:href=\"#DejaVuSans-97\"/>\n      <use x=\"141.601562\" xlink:href=\"#DejaVuSans-105\"/>\n      <use x=\"169.384766\" xlink:href=\"#DejaVuSans-110\"/>\n     </g>\n    </g>\n    <g id=\"line2d_35\">\n     <path d=\"M 52.78125 50.094687 \nL 72.78125 50.094687 \n\" style=\"fill:none;stroke:#ff7f0e;stroke-linecap:square;stroke-width:1.5;\"/>\n    </g>\n    <g id=\"line2d_36\"/>\n    <g id=\"text_17\">\n     <!-- val -->\n     <g transform=\"translate(80.78125 53.594687)scale(0.1 -0.1)\">\n      <defs>\n       <path d=\"M 2.984375 54.6875 \nL 12.5 54.6875 \nL 29.59375 8.796875 \nL 46.6875 54.6875 \nL 56.203125 54.6875 \nL 35.6875 0 \nL 23.484375 0 \nz\n\" id=\"DejaVuSans-118\"/>\n      </defs>\n      <use xlink:href=\"#DejaVuSans-118\"/>\n      <use x=\"59.179688\" xlink:href=\"#DejaVuSans-97\"/>\n      <use x=\"120.458984\" xlink:href=\"#DejaVuSans-108\"/>\n     </g>\n    </g>\n   </g>\n  </g>\n </g>\n <defs>\n  <clipPath id=\"pa5118f1b82\">\n   <rect height=\"217.44\" width=\"334.8\" x=\"43.78125\" y=\"22.318125\"/>\n  </clipPath>\n </defs>\n</svg>\n",
      "image/png": "[encoded data removed]"
     },
     "metadata": {
      "needs_background": "light"
     }
    }
   ],
   "source": [
    "for i,history in enumerate(hists.values()):\n",
    "  plt.plot(history.history['binary_accuracy'], c='tab:blue')\n",
    "  plt.plot(history.history['val_binary_accuracy'], c='tab:orange')\n",
    "  \n",
    "plt.title('model binary_accuracy')\n",
    "plt.ylabel('MSE')\n",
    "plt.xlabel('epoch')\n",
    "plt.legend(['train', 'val'], loc='upper left')\n",
    "plt.show()"
   ]
  },
  {
   "cell_type": "code",
   "execution_count": 12,
   "metadata": {
    "colab": {
     "base_uri": "https://localhost:8080/",
     "height": 343
    },
    "colab_type": "code",
    "id": "DCfn0mjGwdrn",
    "outputId": "f3edfddc-09ec-4a99-9ee5-e93ccf49a5f7",
    "scrolled": false
   },
   "outputs": [
    {
     "output_type": "execute_result",
     "data": {
      "text/plain": [
       "   Train  Output of flat network   Desired output Class\n",
       "0      0                    0.00                1  east\n",
       "1      1                    1.00                1  east\n",
       "2      2                    1.00                1  east\n",
       "3      3                    1.00                1  east\n",
       "4      4                    1.00                1  east\n",
       "5      5                    0.00                0  west\n",
       "6      6                    0.32                0  west\n",
       "7      7                    0.00                0  west\n",
       "8      8                    1.00                0  west\n",
       "9      9                    0.09                0  west"
      ],
      "text/html": "<div>\n<style scoped>\n    .dataframe tbody tr th:only-of-type {\n        vertical-align: middle;\n    }\n\n    .dataframe tbody tr th {\n        vertical-align: top;\n    }\n\n    .dataframe thead th {\n        text-align: right;\n    }\n</style>\n<table border=\"1\" class=\"dataframe\">\n  <thead>\n    <tr style=\"text-align: right;\">\n      <th></th>\n      <th>Train</th>\n      <th>Output of flat network</th>\n      <th>Desired output</th>\n      <th>Class</th>\n    </tr>\n  </thead>\n  <tbody>\n    <tr>\n      <th>0</th>\n      <td>0</td>\n      <td>0.00</td>\n      <td>1</td>\n      <td>east</td>\n    </tr>\n    <tr>\n      <th>1</th>\n      <td>1</td>\n      <td>1.00</td>\n      <td>1</td>\n      <td>east</td>\n    </tr>\n    <tr>\n      <th>2</th>\n      <td>2</td>\n      <td>1.00</td>\n      <td>1</td>\n      <td>east</td>\n    </tr>\n    <tr>\n      <th>3</th>\n      <td>3</td>\n      <td>1.00</td>\n      <td>1</td>\n      <td>east</td>\n    </tr>\n    <tr>\n      <th>4</th>\n      <td>4</td>\n      <td>1.00</td>\n      <td>1</td>\n      <td>east</td>\n    </tr>\n    <tr>\n      <th>5</th>\n      <td>5</td>\n      <td>0.00</td>\n      <td>0</td>\n      <td>west</td>\n    </tr>\n    <tr>\n      <th>6</th>\n      <td>6</td>\n      <td>0.32</td>\n      <td>0</td>\n      <td>west</td>\n    </tr>\n    <tr>\n      <th>7</th>\n      <td>7</td>\n      <td>0.00</td>\n      <td>0</td>\n      <td>west</td>\n    </tr>\n    <tr>\n      <th>8</th>\n      <td>8</td>\n      <td>1.00</td>\n      <td>0</td>\n      <td>west</td>\n    </tr>\n    <tr>\n      <th>9</th>\n      <td>9</td>\n      <td>0.09</td>\n      <td>0</td>\n      <td>west</td>\n    </tr>\n  </tbody>\n</table>\n</div>"
     },
     "metadata": {},
     "execution_count": 12
    }
   ],
   "source": [
    "t1 = pd.DataFrame.from_dict(q1).round(2)\n",
    "t1"
   ]
  },
  {
   "cell_type": "markdown",
   "metadata": {
    "colab_type": "text",
    "id": "BuAayJMpGkRN"
   },
   "source": [
    "## Question 2.\n",
    "\n",
    "Implemente uma solução com base no modelo de aprendizado relacional contendo meta-redes para conectar conceitos das premissas. Este modelos deve conter 11 redes, uma para cada um dos seguintes conceitos conforme definição das paginas 136 e 137:"
   ]
  },
  {
   "cell_type": "markdown",
   "metadata": {
    "colab_type": "text",
    "id": "Z0PBb8FV1NEu"
   },
   "source": [
    "### metanet"
   ]
  },
  {
   "cell_type": "code",
   "execution_count": 14,
   "metadata": {
    "colab": {
     "base_uri": "https://localhost:8080/",
     "height": 1000
    },
    "colab_type": "code",
    "id": "FCnTuECIFvuJ",
    "outputId": "917263b8-ea59-4eeb-9f8d-86854952bc27",
    "scrolled": false
   },
   "outputs": [],
   "source": [
    "def model_v2():\n",
    "  # features\n",
    "  t   = Input(shape=(1,), name='t')\n",
    "  c   = Input(shape=(1,), name='c') \n",
    "  w   = Input(shape=(1,), name='w')\n",
    "  l   = Input(shape=(1,), name='l')\n",
    "  s   = Input(shape=(1,), name='s')\n",
    "  nc  = Input(shape=(1,), name='nc')\n",
    "  ls  = Input(shape=(1,), name='ls')\n",
    "  nl  = Input(shape=(1,), name='nl')\n",
    "  ncl = Input(shape=(1,), name='ncl')\n",
    "  x_crc = Input(shape=(1,), name='x_crc')\n",
    "  x_hex = Input(shape=(1,), name='x_hex')\n",
    "  x_rec = Input(shape=(1,), name='x_rec')\n",
    "  x_tri = Input(shape=(1,), name='x_tri')\n",
    "\n",
    "  # num_cars(t,nc)\n",
    "  num_cars_ = concatenate([t,nc])\n",
    "  num_cars = Dense(1, activation='relu')(num_cars_)\n",
    "#   num_cars = Dense(1, activation='sigmoid', name='num_cars')(num_cars_)\n",
    "#   num_cars = Model(inputs=[t,nc], outputs=num_cars)\n",
    "\n",
    "  # num_loads(t,nl)\n",
    "  num_loads_ = concatenate([t,nl])\n",
    "  num_loads = Dense(1, activation='relu', name='num_loads')(num_loads_)\n",
    "#   num_loads = Dense(1, activation='sigmoid', name='num_loads')(num_loads_)\n",
    "#   num_loads = Model(inputs=[t,nl], outputs=num_loads)\n",
    "\n",
    "  # num_wheels(t,c,w)\n",
    "  num_wheels_ = concatenate([t,c,w])\n",
    "  num_wheels = Dense(1, activation='relu', name='num_wheels')(num_wheels_)\n",
    "#   num_wheels = Dense(1, activation='sigmoid', name='num_wheels')(num_wheels_)\n",
    "#   num_wheels = Model(inputs=[t,c,w], outputs=num_wheels)\n",
    "\n",
    "  # length(t,c,l)\n",
    "  length_ = concatenate([t,c,l])\n",
    "  length = Dense(1, activation='relu', name='length')(length_)\n",
    "#   length = Dense(1, activation='sigmoid', name='length')(length_)\n",
    "#   length = Model(inputs=[t,c,l], outputs=length)\n",
    "\n",
    "  # shape(t,c,s)\n",
    "  shape_ = concatenate([t,c,s])\n",
    "  shape = Dense(1, activation='relu', name='shape')(shape_)\n",
    "#   shape = Dense(1, activation='sigmoid', name='shape')(shape_)\n",
    "#   shape = Model(inputs=[t,c,s], outputs=shape)\n",
    "\n",
    "  # num_car_loads(t,c,ncl)\n",
    "  num_car_loads_ = concatenate([t,c,ncl])\n",
    "  num_car_loads = Dense(1, activation='relu', name='num_car_loads')(num_car_loads_)\n",
    "#   num_car_loads = Dense(1, activation='sigmoid', name='num_car_loads')(num_car_loads_)\n",
    "#   num_car_loads = Model(inputs=[t,c,ncl], outputs=num_car_loads)\n",
    "\n",
    "  # load_shape(t,c,ls)\n",
    "  load_shape_ = concatenate([t,c,ls])\n",
    "  load_shape = Dense(1, activation='relu', name='load_shape')(load_shape_)\n",
    "#   load_shape = Dense(1, activation='sigmoid', name='load_shape')(load_shape_)\n",
    "#   load_shape = Model(inputs=[t,c,ls], outputs=load_shape)\n",
    "\n",
    "  # next_crc(t,c,x)\n",
    "  next_crc_ = concatenate([t,c,x_crc])\n",
    "  next_crc = Dense(1, activation='relu', name='next_crc')(next_crc_)\n",
    "#   next_crc = Dense(1, activation='sigmoid', name='next_crc')(next_crc_)\n",
    "#   next_crc = Model(inputs=[t,c,x_crc], outputs=next_crc)\n",
    "\n",
    "  # next_hex_(t,c,x)\n",
    "  next_hex_ = concatenate([t,c,x_hex])\n",
    "  next_hex = Dense(1, activation='relu', name='next_hex')(next_hex_)\n",
    "#   next_hex = Dense(1, activation='sigmoid', name='next_hex')(next_hex_)\n",
    "#   next_hex = Model(inputs=[t,c,x_hex], outputs=next_hex)\n",
    "\n",
    "  # next_rec(t,c,x)\n",
    "  next_rec_ = concatenate([t,c,x_rec])\n",
    "  next_rec = Dense(1, activation='relu', name='next_rec')(next_rec_)\n",
    "#   next_rec = Dense(1, activation='sigmoid', name='next_rec')(next_rec_)\n",
    "#   next_rec = Model(inputs=[t,c,x_rec], outputs=next_rec)\n",
    "\n",
    "  # next_tri(t,c,x)\n",
    "  next_tri_ = concatenate([t,c,x_tri])\n",
    "  next_tri = Dense(1, activation='relu', name='next_tri')(next_tri_)\n",
    "#   next_tri = Dense(1, activation='sigmoid', name='next_tri')(next_tri_)\n",
    "#   next_tri = Model(inputs=[t,c,x_tri], outputs=next_tri)\n",
    "\n",
    "  # east\n",
    "  east = concatenate([\n",
    "    num_cars, \n",
    "    num_loads, \n",
    "    num_wheels,\n",
    "    length,\n",
    "    shape,\n",
    "    num_car_loads,\n",
    "    load_shape,\n",
    "    next_crc,\n",
    "    next_hex,\n",
    "    next_rec,\n",
    "    next_tri\n",
    "  ])\n",
    "#   east = Dense(3, activation='relu')(east)\n",
    "  east =  Dense(1, activation='sigmoid', name='east')(east)\n",
    "  east = Model(inputs=[t, c, w, l, s, nc, ls, nl, ncl, x_crc, x_hex, x_rec, x_tri], outputs=east)\n",
    "  \n",
    "  # metanet\n",
    "  metanet = None \n",
    "#     Model(\n",
    "#     inputs=east.inputs, \n",
    "#     outputs=[\n",
    "#       num_cars.output, \n",
    "#       num_loads.output, \n",
    "#       num_wheels.output,\n",
    "#       length.output,\n",
    "#       shape.output,\n",
    "#       num_car_loads.output,\n",
    "#       load_shape.output,\n",
    "#       next_crc.output,\n",
    "#       next_hex.output,\n",
    "#       next_rec.output,\n",
    "#       next_tri.output,\n",
    "#       east.output\n",
    "#   ])\n",
    "\n",
    "  # rules\n",
    "  rules = {\n",
    "    'num_cars': num_cars, \n",
    "    'num_loads': num_loads, \n",
    "    'num_wheels': num_wheels,\n",
    "    'length': length,\n",
    "    'shape': shape,\n",
    "    'num_car_loads': num_car_loads,\n",
    "    'load_shape': load_shape,\n",
    "    'next_crc': next_crc,\n",
    "    'next_hex': next_hex,\n",
    "    'next_rec': next_rec,\n",
    "    'next_tri': next_tri,\n",
    "  }\n",
    "\n",
    "  return metanet, east, rules\n",
    "\n",
    "metanet, east, rules = model_v2()\n",
    "# metanet.summary()"
   ]
  },
  {
   "cell_type": "code",
   "execution_count": 15,
   "metadata": {
    "colab": {
     "base_uri": "https://localhost:8080/",
     "height": 584
    },
    "colab_type": "code",
    "id": "9P3AzfUx_wRZ",
    "outputId": "53e73c80-d531-48e7-8304-4df1f75c8933",
    "scrolled": false
   },
   "outputs": [],
   "source": [
    "plot_model(east, show_shapes=False, show_layer_names=True)"
   ]
  },
  {
   "cell_type": "markdown",
   "metadata": {
    "colab_type": "text",
    "id": "RRtn9f_N1_8s"
   },
   "source": [
    "### transform data"
   ]
  },
  {
   "cell_type": "code",
   "execution_count": 16,
   "metadata": {
    "colab": {
     "base_uri": "https://localhost:8080/",
     "height": 381
    },
    "colab_type": "code",
    "id": "ttUckQrg1oHA",
    "outputId": "159fe3df-4c5a-4716-b30e-9208b18353cd",
    "scrolled": true
   },
   "outputs": [
    {
     "output_type": "execute_result",
     "data": {
      "text/plain": [
       "Number_of_cars                 5\n",
       "Number_of_different_loads      4\n",
       "num_wheels                     2\n",
       "length                         1\n",
       "shape                          6\n",
       "num_loads                      3\n",
       "load_shape                     2\n",
       "Rectangle_next_to_rectangle    0\n",
       "Rectangle_next_to_triangle     1\n",
       "Rectangle_next_to_hexagon      0\n",
       "Rectangle_next_to_circle       0\n",
       "Triangle_next_to_triangle      0\n",
       "Triangle_next_to_hexagon       1\n",
       "Triangle_next_to_circle        0\n",
       "Hexagon_next_to_hexagon        0\n",
       "Hexagon_next_to_circle         1\n",
       "Circle_next_to_circle          0\n",
       "Class_attribute                1\n",
       "car                            1\n",
       "train                          0\n",
       "Name: 0, dtype: object"
      ]
     },
     "metadata": {},
     "execution_count": 16
    }
   ],
   "source": [
    "# transform data\n",
    "df = read_data()\n",
    "cols = [[c for c in df.columns if not(str.isdigit(c[-1])) or (str.isdigit(c[-1]) and int(c[-1])==n)] for n in range(1,5)]\n",
    "\n",
    "data = [df[col] for col in cols]\n",
    "for c, df in enumerate(data):\n",
    "  df.columns = [name if not str.isdigit(name[-1]) else name[:-1] for name in df.columns]\n",
    "  df['car'] = c+1\n",
    "\n",
    "data = pd.concat(data)\n",
    "data.reset_index(level=0, inplace=True)\n",
    "data['train'] = data.pop('index')\n",
    "data.T[0]"
   ]
  },
  {
   "cell_type": "markdown",
   "metadata": {
    "colab_type": "text",
    "id": "sw7ws74MnHZc"
   },
   "source": [
    "### Train"
   ]
  },
  {
   "cell_type": "code",
   "execution_count": 17,
   "metadata": {
    "colab": {},
    "colab_type": "code",
    "id": "kSDtoAXF4ziw",
    "scrolled": false
   },
   "outputs": [],
   "source": [
    "def get_att(X):\n",
    "  t = X['train'].T\n",
    "  c = X['car'].T\n",
    "  w = X['num_wheels'].T\n",
    "  l = X['length'].T\n",
    "  s = X['shape'].T\n",
    "  nc = X['Number_of_cars'].T\n",
    "  ls = X['load_shape'].T\n",
    "  nl = X['Number_of_different_loads'].T\n",
    "  ncl = X['num_loads'].T\n",
    "  x_crc = np.sum(X[[col for col in X if col.endswith('circle')]], axis=1).T\n",
    "  x_hex = np.sum(X[[col for col in X if col.endswith('hexagon')]], axis=1).T\n",
    "  x_rec = np.sum(X[[col for col in X if col.endswith('rectangle')]], axis=1).T\n",
    "  x_tri = np.sum(X[[col for col in X if col.endswith('triangle')]], axis=1).T\n",
    "\n",
    "  return [t, c, w, l, s, nc, ls, nl, ncl, x_crc, x_hex, x_rec, x_tri]\n",
    "\n",
    "def split(data, val_train):\n",
    "  x_train = data.query(f'train != {val_train}')\n",
    "  x_test = data.query(f'train == {val_train}')\n",
    "  y_train = np.array(x_train.pop('Class_attribute'))\n",
    "  y_test = np.array(x_test.pop('Class_attribute'))\n",
    "  x_train = get_att(x_train)\n",
    "  x_test = get_att(x_test)\n",
    "  return x_train, x_test, np.array(y_train), np.array(y_test)"
   ]
  },
  {
   "cell_type": "code",
   "execution_count": 17,
   "metadata": {
    "colab": {
     "base_uri": "https://localhost:8080/",
     "height": 34
    },
    "colab_type": "code",
    "id": "puqmQMPs1fZE",
    "outputId": "94465cf3-e823-48fd-9fac-62a2ed21ff2f",
    "scrolled": false
   },
   "outputs": [
    {
     "name": "stderr",
     "output_type": "stream",
     "text": [
      "100%|██████████| 10/10 [14:09<00:00, 84.94s/it]\n"
     ]
    }
   ],
   "source": [
    "kf = KFold(n_splits=10, shuffle=False)\n",
    "hists = dict()\n",
    "q2_names =  [\n",
    "  'Train',\n",
    "  'Cars Accuracy',\n",
    "  'Output of flat network', \n",
    "  'Desired output', \n",
    "  'Class'\n",
    "]\n",
    "q2 = {name: [] for name in q2_names}\n",
    "\n",
    "for val_train in tqdm.tqdm(range(0,10)):\n",
    "  x_train, x_test, y_train, y_test = split(data, val_train)\n",
    "  metanet, east, rules = model_v2()\n",
    "\n",
    "  east.compile(\n",
    "    loss = binary_crossentropy, \n",
    "    optimizer = 'adam',\n",
    "    metrics = ['binary_accuracy'])\n",
    "  hist = east.fit(\n",
    "    x_train,\n",
    "    y_train,\n",
    "    validation_data=[x_test, y_test],\n",
    "    epochs=1000,\n",
    "    verbose=0,)\n",
    "  hists[val_train] = hist\n",
    "\n",
    "  q2['Train'].append(val_train)\n",
    "  q2['Output of flat network'].append(east.predict(x_test)[0][0])\n",
    "  q2['Desired output'].append(y_test[0])\n",
    "  q2['Class'].append(str_att['Class_attribute'][int(y_test[0])])\n",
    "  "
   ]
  },
  {
   "cell_type": "markdown",
   "metadata": {
    "colab_type": "text",
    "id": "UXmqXT_VnDyN"
   },
   "source": [
    "### Results"
   ]
  },
  {
   "cell_type": "code",
   "execution_count": 19,
   "metadata": {
    "colab": {
     "base_uri": "https://localhost:8080/",
     "height": 294
    },
    "colab_type": "code",
    "id": "YGWehNEenB5s",
    "outputId": "98417b72-ff74-4a42-b000-1303b1c47b0e",
    "scrolled": false
   },
   "outputs": [],
   "source": [
    "# for i,history in enumerate(hists.values()):\n",
    "#   plt.plot(history.history['mean_squared_error'], c='tab:blue')\n",
    "#   plt.plot(history.history['val_mean_squared_error'], c='tab:orange')\n",
    "  \n",
    "# plt.title('model mean_squared_error')\n",
    "# plt.ylabel('MSE')\n",
    "# plt.xlabel('epoch')\n",
    "# plt.legend(['train', 'val'], loc='upper left')\n",
    "# plt.show()\n"
   ]
  },
  {
   "cell_type": "code",
   "execution_count": 21,
   "metadata": {
    "colab": {
     "base_uri": "https://localhost:8080/",
     "height": 294
    },
    "colab_type": "code",
    "id": "WDEeJ3ec4F51",
    "outputId": "6452f7e5-b8da-465b-f6ff-474b73f9256c",
    "scrolled": false
   },
   "outputs": [
    {
     "data": {
      "image/png": "[encoded data removed]",
      "text/plain": [
       "<Figure size 432x288 with 1 Axes>"
      ]
     },
     "metadata": {
      "needs_background": "light"
     },
     "output_type": "display_data"
    }
   ],
   "source": [
    "for i,history in enumerate(hists.values()):\n",
    "  plt.plot(history.history['binary_accuracy'], c='tab:blue')\n",
    "  plt.plot(history.history['val_binary_accuracy'], c='tab:orange')\n",
    "  \n",
    "plt.title('model binary_accuracy')\n",
    "plt.ylabel('binary accuracy')\n",
    "plt.xlabel('epoch')\n",
    "plt.legend(['train', 'val'], loc='upper left')\n",
    "plt.show()"
   ]
  },
  {
   "cell_type": "code",
   "execution_count": 22,
   "metadata": {
    "colab": {
     "base_uri": "https://localhost:8080/",
     "height": 356
    },
    "colab_type": "code",
    "id": "KoX5BURlAktl",
    "outputId": "87b5e62d-efed-4d7d-ddad-5dc7c8a4988f",
    "scrolled": false
   },
   "outputs": [],
   "source": [
    "# t2 = pd.DataFrame.from_dict(q2).round(2)\n",
    "# t2['Cars Accuracy'] = [hists[i].history['binary_accuracy'][-1] for i in range(0,10)]\n",
    "# t2 = t2.reindex(columns=['Train', 'Cars Accuracy', 'Output of flat network', 'Desired output', 'Class'])\n",
    "# t2 "
   ]
  },
  {
   "cell_type": "code",
   "execution_count": 23,
   "metadata": {
    "scrolled": false
   },
   "outputs": [
    {
     "name": "stdout",
     "output_type": "stream",
     "text": [
      "{'batch_input_shape': (None, 1), 'dtype': 'float32', 'sparse': False, 'name': 't'} []\n",
      "{'batch_input_shape': (None, 1), 'dtype': 'float32', 'sparse': False, 'name': 'nc'} []\n",
      "{'batch_input_shape': (None, 1), 'dtype': 'float32', 'sparse': False, 'name': 'nl'} []\n",
      "{'batch_input_shape': (None, 1), 'dtype': 'float32', 'sparse': False, 'name': 'c'} []\n",
      "{'batch_input_shape': (None, 1), 'dtype': 'float32', 'sparse': False, 'name': 'w'} []\n",
      "{'batch_input_shape': (None, 1), 'dtype': 'float32', 'sparse': False, 'name': 'l'} []\n",
      "{'batch_input_shape': (None, 1), 'dtype': 'float32', 'sparse': False, 'name': 's'} []\n",
      "{'batch_input_shape': (None, 1), 'dtype': 'float32', 'sparse': False, 'name': 'ncl'} []\n",
      "{'batch_input_shape': (None, 1), 'dtype': 'float32', 'sparse': False, 'name': 'ls'} []\n",
      "{'batch_input_shape': (None, 1), 'dtype': 'float32', 'sparse': False, 'name': 'x_crc'} []\n",
      "{'batch_input_shape': (None, 1), 'dtype': 'float32', 'sparse': False, 'name': 'x_hex'} []\n",
      "{'batch_input_shape': (None, 1), 'dtype': 'float32', 'sparse': False, 'name': 'x_rec'} []\n",
      "{'batch_input_shape': (None, 1), 'dtype': 'float32', 'sparse': False, 'name': 'x_tri'} []\n",
      "{'name': 'concatenate_121', 'trainable': True, 'axis': -1} []\n",
      "{'name': 'concatenate_122', 'trainable': True, 'axis': -1} []\n",
      "{'name': 'concatenate_123', 'trainable': True, 'axis': -1} []\n",
      "{'name': 'concatenate_124', 'trainable': True, 'axis': -1} []\n",
      "{'name': 'concatenate_125', 'trainable': True, 'axis': -1} []\n",
      "{'name': 'concatenate_126', 'trainable': True, 'axis': -1} []\n",
      "{'name': 'concatenate_127', 'trainable': True, 'axis': -1} []\n",
      "{'name': 'concatenate_128', 'trainable': True, 'axis': -1} []\n",
      "{'name': 'concatenate_129', 'trainable': True, 'axis': -1} []\n",
      "{'name': 'concatenate_130', 'trainable': True, 'axis': -1} []\n",
      "{'name': 'concatenate_131', 'trainable': True, 'axis': -1} []\n",
      "{'name': 'dense_33', 'trainable': True, 'units': 1, 'activation': 'relu', 'use_bias': True, 'kernel_initializer': {'class_name': 'VarianceScaling', 'config': {'scale': 1.0, 'mode': 'fan_avg', 'distribution': 'uniform', 'seed': None}}, 'bias_initializer': {'class_name': 'Zeros', 'config': {}}, 'kernel_regularizer': None, 'bias_regularizer': None, 'activity_regularizer': None, 'kernel_constraint': None, 'bias_constraint': None} [array([[-0.35656738],\n",
      "       [-0.3559891 ]], dtype=float32), array([0.], dtype=float32)]\n",
      "{'name': 'num_loads', 'trainable': True, 'units': 1, 'activation': 'relu', 'use_bias': True, 'kernel_initializer': {'class_name': 'VarianceScaling', 'config': {'scale': 1.0, 'mode': 'fan_avg', 'distribution': 'uniform', 'seed': None}}, 'bias_initializer': {'class_name': 'Zeros', 'config': {}}, 'kernel_regularizer': None, 'bias_regularizer': None, 'activity_regularizer': None, 'kernel_constraint': None, 'bias_constraint': None} [array([[0.11036912],\n",
      "       [3.6408012 ]], dtype=float32), array([1.3627856], dtype=float32)]\n",
      "{'name': 'num_wheels', 'trainable': True, 'units': 1, 'activation': 'relu', 'use_bias': True, 'kernel_initializer': {'class_name': 'VarianceScaling', 'config': {'scale': 1.0, 'mode': 'fan_avg', 'distribution': 'uniform', 'seed': None}}, 'bias_initializer': {'class_name': 'Zeros', 'config': {}}, 'kernel_regularizer': None, 'bias_regularizer': None, 'activity_regularizer': None, 'kernel_constraint': None, 'bias_constraint': None} [array([[-0.6899235],\n",
      "       [-0.5955948],\n",
      "       [ 0.4655068]], dtype=float32), array([-0.09637361], dtype=float32)]\n",
      "{'name': 'length', 'trainable': True, 'units': 1, 'activation': 'relu', 'use_bias': True, 'kernel_initializer': {'class_name': 'VarianceScaling', 'config': {'scale': 1.0, 'mode': 'fan_avg', 'distribution': 'uniform', 'seed': None}}, 'bias_initializer': {'class_name': 'Zeros', 'config': {}}, 'kernel_regularizer': None, 'bias_regularizer': None, 'activity_regularizer': None, 'kernel_constraint': None, 'bias_constraint': None} [array([[0.08450257],\n",
      "       [0.8417548 ],\n",
      "       [2.8305957 ]], dtype=float32), array([1.256917], dtype=float32)]\n",
      "{'name': 'shape', 'trainable': True, 'units': 1, 'activation': 'relu', 'use_bias': True, 'kernel_initializer': {'class_name': 'VarianceScaling', 'config': {'scale': 1.0, 'mode': 'fan_avg', 'distribution': 'uniform', 'seed': None}}, 'bias_initializer': {'class_name': 'Zeros', 'config': {}}, 'kernel_regularizer': None, 'bias_regularizer': None, 'activity_regularizer': None, 'kernel_constraint': None, 'bias_constraint': None} [array([[ 0.09030554],\n",
      "       [ 1.7234633 ],\n",
      "       [-0.99630135]], dtype=float32), array([2.0715683], dtype=float32)]\n",
      "{'name': 'num_car_loads', 'trainable': True, 'units': 1, 'activation': 'relu', 'use_bias': True, 'kernel_initializer': {'class_name': 'VarianceScaling', 'config': {'scale': 1.0, 'mode': 'fan_avg', 'distribution': 'uniform', 'seed': None}}, 'bias_initializer': {'class_name': 'Zeros', 'config': {}}, 'kernel_regularizer': None, 'bias_regularizer': None, 'activity_regularizer': None, 'kernel_constraint': None, 'bias_constraint': None} [array([[-1.1569474 ],\n",
      "       [-1.1091208 ],\n",
      "       [-0.42493963]], dtype=float32), array([0.], dtype=float32)]\n",
      "{'name': 'load_shape', 'trainable': True, 'units': 1, 'activation': 'relu', 'use_bias': True, 'kernel_initializer': {'class_name': 'VarianceScaling', 'config': {'scale': 1.0, 'mode': 'fan_avg', 'distribution': 'uniform', 'seed': None}}, 'bias_initializer': {'class_name': 'Zeros', 'config': {}}, 'kernel_regularizer': None, 'bias_regularizer': None, 'activity_regularizer': None, 'kernel_constraint': None, 'bias_constraint': None} [array([[ 2.0372283],\n",
      "       [ 0.6624871],\n",
      "       [-1.7967321]], dtype=float32), array([-1.0881206], dtype=float32)]\n",
      "{'name': 'next_crc', 'trainable': True, 'units': 1, 'activation': 'relu', 'use_bias': True, 'kernel_initializer': {'class_name': 'VarianceScaling', 'config': {'scale': 1.0, 'mode': 'fan_avg', 'distribution': 'uniform', 'seed': None}}, 'bias_initializer': {'class_name': 'Zeros', 'config': {}}, 'kernel_regularizer': None, 'bias_regularizer': None, 'activity_regularizer': None, 'kernel_constraint': None, 'bias_constraint': None} [array([[ 1.5733598 ],\n",
      "       [-0.56516975],\n",
      "       [-0.18640745]], dtype=float32), array([-1.0875694], dtype=float32)]\n",
      "{'name': 'next_hex', 'trainable': True, 'units': 1, 'activation': 'relu', 'use_bias': True, 'kernel_initializer': {'class_name': 'VarianceScaling', 'config': {'scale': 1.0, 'mode': 'fan_avg', 'distribution': 'uniform', 'seed': None}}, 'bias_initializer': {'class_name': 'Zeros', 'config': {}}, 'kernel_regularizer': None, 'bias_regularizer': None, 'activity_regularizer': None, 'kernel_constraint': None, 'bias_constraint': None} [array([[-0.42869496],\n",
      "       [ 0.05424862],\n",
      "       [ 1.291914  ]], dtype=float32), array([2.0292885], dtype=float32)]\n",
      "{'name': 'next_rec', 'trainable': True, 'units': 1, 'activation': 'relu', 'use_bias': True, 'kernel_initializer': {'class_name': 'VarianceScaling', 'config': {'scale': 1.0, 'mode': 'fan_avg', 'distribution': 'uniform', 'seed': None}}, 'bias_initializer': {'class_name': 'Zeros', 'config': {}}, 'kernel_regularizer': None, 'bias_regularizer': None, 'activity_regularizer': None, 'kernel_constraint': None, 'bias_constraint': None} [array([[ 1.8414948 ],\n",
      "       [-0.02277271],\n",
      "       [-1.0996573 ]], dtype=float32), array([-1.2067758], dtype=float32)]\n",
      "{'name': 'next_tri', 'trainable': True, 'units': 1, 'activation': 'relu', 'use_bias': True, 'kernel_initializer': {'class_name': 'VarianceScaling', 'config': {'scale': 1.0, 'mode': 'fan_avg', 'distribution': 'uniform', 'seed': None}}, 'bias_initializer': {'class_name': 'Zeros', 'config': {}}, 'kernel_regularizer': None, 'bias_regularizer': None, 'activity_regularizer': None, 'kernel_constraint': None, 'bias_constraint': None} [array([[-0.5035822 ],\n",
      "       [-0.36648375],\n",
      "       [ 0.3890736 ]], dtype=float32), array([-0.03226652], dtype=float32)]\n",
      "{'name': 'concatenate_132', 'trainable': True, 'axis': -1} []\n",
      "{'name': 'east', 'trainable': True, 'units': 1, 'activation': 'sigmoid', 'use_bias': True, 'kernel_initializer': {'class_name': 'VarianceScaling', 'config': {'scale': 1.0, 'mode': 'fan_avg', 'distribution': 'uniform', 'seed': None}}, 'bias_initializer': {'class_name': 'Zeros', 'config': {}}, 'kernel_regularizer': None, 'bias_regularizer': None, 'activity_regularizer': None, 'kernel_constraint': None, 'bias_constraint': None} [array([[ 0.542085  ],\n",
      "       [ 1.9436629 ],\n",
      "       [-0.18381727],\n",
      "       [ 0.6319805 ],\n",
      "       [ 0.97250485],\n",
      "       [-0.30104786],\n",
      "       [-1.3654798 ],\n",
      "       [-2.162334  ],\n",
      "       [ 6.2207704 ],\n",
      "       [-1.5779272 ],\n",
      "       [-0.26269293]], dtype=float32), array([1.0912945], dtype=float32)]\n"
     ]
    }
   ],
   "source": [
    "for layer in east.layers: print(layer.get_config(), layer.get_weights())\n"
   ]
  },
  {
   "cell_type": "code",
   "execution_count": null,
   "metadata": {
    "scrolled": false
   },
   "outputs": [],
   "source": [
    "# model_json = east.to_json()\n",
    "# with open(\"model.json\", \"w\") as json_file:\n",
    "#     json_file.write(model_json)\n",
    "# # serialize weights to HDF5\n",
    "# east.save_weights(\"model.h5\")\n",
    "# print(\"Saved model to disk\")"
   ]
  },
  {
   "cell_type": "code",
   "execution_count": null,
   "metadata": {
    "scrolled": false
   },
   "outputs": [],
   "source": []
  },
  {
   "cell_type": "code",
   "execution_count": null,
   "metadata": {
    "scrolled": true
   },
   "outputs": [],
   "source": [
    "# for layer in metanet.layers: print(layer.get_config(), layer.get_weights())\n"
   ]
  },
  {
   "cell_type": "code",
   "execution_count": null,
   "metadata": {
    "scrolled": true
   },
   "outputs": [],
   "source": [
    "# # rules = {\n",
    "# #     'num_cars': num_cars, \n",
    "# #     'num_loads': num_loads, \n",
    "# #     'num_wheels': num_wheels,\n",
    "# #     'length': length,\n",
    "# #     'shape': shape,\n",
    "# #     'num_car_loads': num_car_loads,\n",
    "# #     'load_shape': load_shape,\n",
    "# #     'next_crc': next_crc,\n",
    "# #     'next_hex': next_hex,\n",
    "# #     'next_rec': next_rec,\n",
    "# #     'next_tri': next_tri,\n",
    "# #   }\n",
    "\n",
    "# for key, values in rules.items():\n",
    "#     for layer in rules[key].layers: print(layer.get_config(), layer.get_weights())\n",
    "\n",
    "# for lay in rules['num_cars'].layers:\n",
    "#     print(lay.name)\n",
    "#     print(lay.get_weights())"
   ]
  },
  {
   "cell_type": "code",
   "execution_count": null,
   "metadata": {
    "scrolled": false
   },
   "outputs": [],
   "source": [
    "east.summary()"
   ]
  },
  {
   "cell_type": "code",
   "execution_count": null,
   "metadata": {},
   "outputs": [],
   "source": []
  }
 ],
 "metadata": {
  "accelerator": "TPU",
  "colab": {
   "collapsed_sections": [
    "roshxLlK-K5g",
    "Z0PBb8FV1NEu",
    "RRtn9f_N1_8s",
    "sw7ws74MnHZc",
    "UXmqXT_VnDyN"
   ],
   "include_colab_link": true,
   "name": "NeuralSymbolic-Demo.ipynb",
   "provenance": []
  },
  "kernelspec": {
   "display_name": "Python 3",
   "language": "python",
   "name": "python3"
  },
  "language_info": {
   "codemirror_mode": {
    "name": "ipython",
    "version": 3
   },
   "file_extension": ".py",
   "mimetype": "text/x-python",
   "name": "python",
   "nbconvert_exporter": "python",
   "pygments_lexer": "ipython3",
   "version": "3.6.9-final"
  }
 },
 "nbformat": 4,
 "nbformat_minor": 1
}